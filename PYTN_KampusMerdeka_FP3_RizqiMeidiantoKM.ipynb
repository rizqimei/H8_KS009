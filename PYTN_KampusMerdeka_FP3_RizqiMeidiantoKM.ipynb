{
 "cells": [
  {
   "cell_type": "markdown",
   "id": "89c35f60",
   "metadata": {},
   "source": [
    "## FINAL PROJECT 3 HACKTIV\n",
    "### Heart Failure Prediction\n",
    "\"Prediksi keselamatan pasien dari penyakit jantung\""
   ]
  },
  {
   "cell_type": "markdown",
   "id": "4c0ed42a",
   "metadata": {},
   "source": [
    "# Projects Overview\n",
    "Data ini memiliki 13 atribut."
   ]
  },
  {
   "cell_type": "markdown",
   "id": "b2695776",
   "metadata": {},
   "source": [
    "## Attribute Information:\n",
    "***The Data From : https://www.kaggle.com/datasets/andrewmvd/heart-failure-clinical-data***\n",
    "1. age = umur pasien\n",
    "2. anaemia = apakah ada pengurangan haemoglobin\n",
    "3. creatinine_phosphokinase = level enzim CPK dalam mcg/L\n",
    "4. diabetes = apakah pasien punya riwayat diabetes\n",
    "5. ejection_fraction = persentase darah yang meninggalkan jantung dalam persentasi\n",
    "di setiap kontraksi jantung\n",
    "6. high_blood_pressure = apakah pasien punya darah tinggi\n",
    "7. platelets = jumlah platelet di darah dalam kiloplatelets/mL\n",
    "8. serum_creatinine = level serum creatinine di darah dalam mg/dL\n",
    "9. serum_sodium = level serum sodium di darah dalam mEq/L\n",
    "10. sex = apakah pasien pria atau wanita\n",
    "11. smoking = apakah pasien merokok\n",
    "12. time = waktu dalam hari untuk follow-up\n",
    "13. DEATH_EVENT = apakah pasien sudah meninggal saat waktu follow-up"
   ]
  },
  {
   "cell_type": "markdown",
   "id": "9148dd3f",
   "metadata": {},
   "source": [
    "## a. INTRODUCTION\n",
    "- Jumlah dataset : 299 ROW & 13 COLUMN\n",
    "- Sumber Dataset : https://www.kaggle.com/datasets/andrewmvd/heart-failure-clinical-data?resource=download\n",
    "- Tujuannya:\n",
    "Untuk memprediksi keselamatan pasien dari penyakit jantung"
   ]
  },
  {
   "cell_type": "markdown",
   "id": "cee8531c",
   "metadata": {},
   "source": [
    "## b. IMPORT LIBRARY"
   ]
  },
  {
   "cell_type": "code",
   "execution_count": 26,
   "id": "e6883547",
   "metadata": {},
   "outputs": [],
   "source": [
    "import pandas as pd\n",
    "import matplotlib.pyplot as plt\n",
    "import numpy as np\n",
    "import seaborn as sns\n",
    "from sklearn import preprocessing\n",
    "from sklearn.preprocessing import StandardScaler, LabelEncoder\n",
    "from sklearn.model_selection import train_test_split\n",
    "from sklearn.metrics import mean_squared_error, mean_absolute_error\n",
    "from sklearn.metrics import f1_score, average_precision_score, accuracy_score\n",
    "from sklearn.metrics import confusion_matrix, classification_report, precision_score, recall_score\n",
    "from sklearn.ensemble import ExtraTreesClassifier\n",
    "from sklearn.ensemble import RandomForestClassifier\n"
   ]
  },
  {
   "cell_type": "markdown",
   "id": "84777bea",
   "metadata": {},
   "source": [
    "## c. DATA LOADING \n",
    "Pada Tahap Data Loading, hal yang dilakukan adalah :\n",
    "- Mengimpor dataset\n",
    "- Menampilkan tabel dataset (teratas dan terbawah)\n",
    "- Melihat jumlah baris dan kolom\n",
    "- Melihat informasi tiap variabel"
   ]
  },
  {
   "cell_type": "code",
   "execution_count": 27,
   "id": "5585e60b",
   "metadata": {},
   "outputs": [
    {
     "data": {
      "text/html": [
       "<div>\n",
       "<style scoped>\n",
       "    .dataframe tbody tr th:only-of-type {\n",
       "        vertical-align: middle;\n",
       "    }\n",
       "\n",
       "    .dataframe tbody tr th {\n",
       "        vertical-align: top;\n",
       "    }\n",
       "\n",
       "    .dataframe thead th {\n",
       "        text-align: right;\n",
       "    }\n",
       "</style>\n",
       "<table border=\"1\" class=\"dataframe\">\n",
       "  <thead>\n",
       "    <tr style=\"text-align: right;\">\n",
       "      <th></th>\n",
       "      <th>age</th>\n",
       "      <th>anaemia</th>\n",
       "      <th>creatinine_phosphokinase</th>\n",
       "      <th>diabetes</th>\n",
       "      <th>ejection_fraction</th>\n",
       "      <th>high_blood_pressure</th>\n",
       "      <th>platelets</th>\n",
       "      <th>serum_creatinine</th>\n",
       "      <th>serum_sodium</th>\n",
       "      <th>sex</th>\n",
       "      <th>smoking</th>\n",
       "      <th>time</th>\n",
       "      <th>DEATH_EVENT</th>\n",
       "    </tr>\n",
       "  </thead>\n",
       "  <tbody>\n",
       "    <tr>\n",
       "      <th>0</th>\n",
       "      <td>75.0</td>\n",
       "      <td>0</td>\n",
       "      <td>582</td>\n",
       "      <td>0</td>\n",
       "      <td>20</td>\n",
       "      <td>1</td>\n",
       "      <td>265000.00</td>\n",
       "      <td>1.9</td>\n",
       "      <td>130</td>\n",
       "      <td>1</td>\n",
       "      <td>0</td>\n",
       "      <td>4</td>\n",
       "      <td>1</td>\n",
       "    </tr>\n",
       "    <tr>\n",
       "      <th>1</th>\n",
       "      <td>55.0</td>\n",
       "      <td>0</td>\n",
       "      <td>7861</td>\n",
       "      <td>0</td>\n",
       "      <td>38</td>\n",
       "      <td>0</td>\n",
       "      <td>263358.03</td>\n",
       "      <td>1.1</td>\n",
       "      <td>136</td>\n",
       "      <td>1</td>\n",
       "      <td>0</td>\n",
       "      <td>6</td>\n",
       "      <td>1</td>\n",
       "    </tr>\n",
       "    <tr>\n",
       "      <th>2</th>\n",
       "      <td>65.0</td>\n",
       "      <td>0</td>\n",
       "      <td>146</td>\n",
       "      <td>0</td>\n",
       "      <td>20</td>\n",
       "      <td>0</td>\n",
       "      <td>162000.00</td>\n",
       "      <td>1.3</td>\n",
       "      <td>129</td>\n",
       "      <td>1</td>\n",
       "      <td>1</td>\n",
       "      <td>7</td>\n",
       "      <td>1</td>\n",
       "    </tr>\n",
       "    <tr>\n",
       "      <th>3</th>\n",
       "      <td>50.0</td>\n",
       "      <td>1</td>\n",
       "      <td>111</td>\n",
       "      <td>0</td>\n",
       "      <td>20</td>\n",
       "      <td>0</td>\n",
       "      <td>210000.00</td>\n",
       "      <td>1.9</td>\n",
       "      <td>137</td>\n",
       "      <td>1</td>\n",
       "      <td>0</td>\n",
       "      <td>7</td>\n",
       "      <td>1</td>\n",
       "    </tr>\n",
       "    <tr>\n",
       "      <th>4</th>\n",
       "      <td>65.0</td>\n",
       "      <td>1</td>\n",
       "      <td>160</td>\n",
       "      <td>1</td>\n",
       "      <td>20</td>\n",
       "      <td>0</td>\n",
       "      <td>327000.00</td>\n",
       "      <td>2.7</td>\n",
       "      <td>116</td>\n",
       "      <td>0</td>\n",
       "      <td>0</td>\n",
       "      <td>8</td>\n",
       "      <td>1</td>\n",
       "    </tr>\n",
       "  </tbody>\n",
       "</table>\n",
       "</div>"
      ],
      "text/plain": [
       "    age  anaemia  creatinine_phosphokinase  diabetes  ejection_fraction  \\\n",
       "0  75.0        0                       582         0                 20   \n",
       "1  55.0        0                      7861         0                 38   \n",
       "2  65.0        0                       146         0                 20   \n",
       "3  50.0        1                       111         0                 20   \n",
       "4  65.0        1                       160         1                 20   \n",
       "\n",
       "   high_blood_pressure  platelets  serum_creatinine  serum_sodium  sex  \\\n",
       "0                    1  265000.00               1.9           130    1   \n",
       "1                    0  263358.03               1.1           136    1   \n",
       "2                    0  162000.00               1.3           129    1   \n",
       "3                    0  210000.00               1.9           137    1   \n",
       "4                    0  327000.00               2.7           116    0   \n",
       "\n",
       "   smoking  time  DEATH_EVENT  \n",
       "0        0     4            1  \n",
       "1        0     6            1  \n",
       "2        1     7            1  \n",
       "3        0     7            1  \n",
       "4        0     8            1  "
      ]
     },
     "execution_count": 27,
     "metadata": {},
     "output_type": "execute_result"
    }
   ],
   "source": [
    "# Mengimpor dataset\n",
    "df = pd.read_csv(\"heart_failure_clinical_records_dataset.csv\")\n",
    "df.head()"
   ]
  },
  {
   "cell_type": "code",
   "execution_count": 28,
   "id": "ee92e6f6",
   "metadata": {},
   "outputs": [
    {
     "data": {
      "text/html": [
       "<div>\n",
       "<style scoped>\n",
       "    .dataframe tbody tr th:only-of-type {\n",
       "        vertical-align: middle;\n",
       "    }\n",
       "\n",
       "    .dataframe tbody tr th {\n",
       "        vertical-align: top;\n",
       "    }\n",
       "\n",
       "    .dataframe thead th {\n",
       "        text-align: right;\n",
       "    }\n",
       "</style>\n",
       "<table border=\"1\" class=\"dataframe\">\n",
       "  <thead>\n",
       "    <tr style=\"text-align: right;\">\n",
       "      <th></th>\n",
       "      <th>age</th>\n",
       "      <th>anaemia</th>\n",
       "      <th>creatinine_phosphokinase</th>\n",
       "      <th>diabetes</th>\n",
       "      <th>ejection_fraction</th>\n",
       "      <th>high_blood_pressure</th>\n",
       "      <th>platelets</th>\n",
       "      <th>serum_creatinine</th>\n",
       "      <th>serum_sodium</th>\n",
       "      <th>sex</th>\n",
       "      <th>smoking</th>\n",
       "      <th>time</th>\n",
       "      <th>DEATH_EVENT</th>\n",
       "    </tr>\n",
       "  </thead>\n",
       "  <tbody>\n",
       "    <tr>\n",
       "      <th>0</th>\n",
       "      <td>75.0</td>\n",
       "      <td>0</td>\n",
       "      <td>582</td>\n",
       "      <td>0</td>\n",
       "      <td>20</td>\n",
       "      <td>1</td>\n",
       "      <td>265000.00</td>\n",
       "      <td>1.9</td>\n",
       "      <td>130</td>\n",
       "      <td>1</td>\n",
       "      <td>0</td>\n",
       "      <td>4</td>\n",
       "      <td>1</td>\n",
       "    </tr>\n",
       "    <tr>\n",
       "      <th>1</th>\n",
       "      <td>55.0</td>\n",
       "      <td>0</td>\n",
       "      <td>7861</td>\n",
       "      <td>0</td>\n",
       "      <td>38</td>\n",
       "      <td>0</td>\n",
       "      <td>263358.03</td>\n",
       "      <td>1.1</td>\n",
       "      <td>136</td>\n",
       "      <td>1</td>\n",
       "      <td>0</td>\n",
       "      <td>6</td>\n",
       "      <td>1</td>\n",
       "    </tr>\n",
       "    <tr>\n",
       "      <th>2</th>\n",
       "      <td>65.0</td>\n",
       "      <td>0</td>\n",
       "      <td>146</td>\n",
       "      <td>0</td>\n",
       "      <td>20</td>\n",
       "      <td>0</td>\n",
       "      <td>162000.00</td>\n",
       "      <td>1.3</td>\n",
       "      <td>129</td>\n",
       "      <td>1</td>\n",
       "      <td>1</td>\n",
       "      <td>7</td>\n",
       "      <td>1</td>\n",
       "    </tr>\n",
       "    <tr>\n",
       "      <th>3</th>\n",
       "      <td>50.0</td>\n",
       "      <td>1</td>\n",
       "      <td>111</td>\n",
       "      <td>0</td>\n",
       "      <td>20</td>\n",
       "      <td>0</td>\n",
       "      <td>210000.00</td>\n",
       "      <td>1.9</td>\n",
       "      <td>137</td>\n",
       "      <td>1</td>\n",
       "      <td>0</td>\n",
       "      <td>7</td>\n",
       "      <td>1</td>\n",
       "    </tr>\n",
       "  </tbody>\n",
       "</table>\n",
       "</div>"
      ],
      "text/plain": [
       "    age  anaemia  creatinine_phosphokinase  diabetes  ejection_fraction  \\\n",
       "0  75.0        0                       582         0                 20   \n",
       "1  55.0        0                      7861         0                 38   \n",
       "2  65.0        0                       146         0                 20   \n",
       "3  50.0        1                       111         0                 20   \n",
       "\n",
       "   high_blood_pressure  platelets  serum_creatinine  serum_sodium  sex  \\\n",
       "0                    1  265000.00               1.9           130    1   \n",
       "1                    0  263358.03               1.1           136    1   \n",
       "2                    0  162000.00               1.3           129    1   \n",
       "3                    0  210000.00               1.9           137    1   \n",
       "\n",
       "   smoking  time  DEATH_EVENT  \n",
       "0        0     4            1  \n",
       "1        0     6            1  \n",
       "2        1     7            1  \n",
       "3        0     7            1  "
      ]
     },
     "execution_count": 28,
     "metadata": {},
     "output_type": "execute_result"
    }
   ],
   "source": [
    "# menampilkan 4 dataset teratas\n",
    "df.head(4)"
   ]
  },
  {
   "cell_type": "code",
   "execution_count": 29,
   "id": "4eef3a34",
   "metadata": {},
   "outputs": [
    {
     "data": {
      "text/html": [
       "<div>\n",
       "<style scoped>\n",
       "    .dataframe tbody tr th:only-of-type {\n",
       "        vertical-align: middle;\n",
       "    }\n",
       "\n",
       "    .dataframe tbody tr th {\n",
       "        vertical-align: top;\n",
       "    }\n",
       "\n",
       "    .dataframe thead th {\n",
       "        text-align: right;\n",
       "    }\n",
       "</style>\n",
       "<table border=\"1\" class=\"dataframe\">\n",
       "  <thead>\n",
       "    <tr style=\"text-align: right;\">\n",
       "      <th></th>\n",
       "      <th>age</th>\n",
       "      <th>anaemia</th>\n",
       "      <th>creatinine_phosphokinase</th>\n",
       "      <th>diabetes</th>\n",
       "      <th>ejection_fraction</th>\n",
       "      <th>high_blood_pressure</th>\n",
       "      <th>platelets</th>\n",
       "      <th>serum_creatinine</th>\n",
       "      <th>serum_sodium</th>\n",
       "      <th>sex</th>\n",
       "      <th>smoking</th>\n",
       "      <th>time</th>\n",
       "      <th>DEATH_EVENT</th>\n",
       "    </tr>\n",
       "  </thead>\n",
       "  <tbody>\n",
       "    <tr>\n",
       "      <th>295</th>\n",
       "      <td>55.0</td>\n",
       "      <td>0</td>\n",
       "      <td>1820</td>\n",
       "      <td>0</td>\n",
       "      <td>38</td>\n",
       "      <td>0</td>\n",
       "      <td>270000.0</td>\n",
       "      <td>1.2</td>\n",
       "      <td>139</td>\n",
       "      <td>0</td>\n",
       "      <td>0</td>\n",
       "      <td>271</td>\n",
       "      <td>0</td>\n",
       "    </tr>\n",
       "    <tr>\n",
       "      <th>296</th>\n",
       "      <td>45.0</td>\n",
       "      <td>0</td>\n",
       "      <td>2060</td>\n",
       "      <td>1</td>\n",
       "      <td>60</td>\n",
       "      <td>0</td>\n",
       "      <td>742000.0</td>\n",
       "      <td>0.8</td>\n",
       "      <td>138</td>\n",
       "      <td>0</td>\n",
       "      <td>0</td>\n",
       "      <td>278</td>\n",
       "      <td>0</td>\n",
       "    </tr>\n",
       "    <tr>\n",
       "      <th>297</th>\n",
       "      <td>45.0</td>\n",
       "      <td>0</td>\n",
       "      <td>2413</td>\n",
       "      <td>0</td>\n",
       "      <td>38</td>\n",
       "      <td>0</td>\n",
       "      <td>140000.0</td>\n",
       "      <td>1.4</td>\n",
       "      <td>140</td>\n",
       "      <td>1</td>\n",
       "      <td>1</td>\n",
       "      <td>280</td>\n",
       "      <td>0</td>\n",
       "    </tr>\n",
       "    <tr>\n",
       "      <th>298</th>\n",
       "      <td>50.0</td>\n",
       "      <td>0</td>\n",
       "      <td>196</td>\n",
       "      <td>0</td>\n",
       "      <td>45</td>\n",
       "      <td>0</td>\n",
       "      <td>395000.0</td>\n",
       "      <td>1.6</td>\n",
       "      <td>136</td>\n",
       "      <td>1</td>\n",
       "      <td>1</td>\n",
       "      <td>285</td>\n",
       "      <td>0</td>\n",
       "    </tr>\n",
       "  </tbody>\n",
       "</table>\n",
       "</div>"
      ],
      "text/plain": [
       "      age  anaemia  creatinine_phosphokinase  diabetes  ejection_fraction  \\\n",
       "295  55.0        0                      1820         0                 38   \n",
       "296  45.0        0                      2060         1                 60   \n",
       "297  45.0        0                      2413         0                 38   \n",
       "298  50.0        0                       196         0                 45   \n",
       "\n",
       "     high_blood_pressure  platelets  serum_creatinine  serum_sodium  sex  \\\n",
       "295                    0   270000.0               1.2           139    0   \n",
       "296                    0   742000.0               0.8           138    0   \n",
       "297                    0   140000.0               1.4           140    1   \n",
       "298                    0   395000.0               1.6           136    1   \n",
       "\n",
       "     smoking  time  DEATH_EVENT  \n",
       "295        0   271            0  \n",
       "296        0   278            0  \n",
       "297        1   280            0  \n",
       "298        1   285            0  "
      ]
     },
     "execution_count": 29,
     "metadata": {},
     "output_type": "execute_result"
    }
   ],
   "source": [
    "# menampilkan 4 dataset terbawah\n",
    "df.tail(4)"
   ]
  },
  {
   "cell_type": "code",
   "execution_count": 30,
   "id": "bc1d2407",
   "metadata": {},
   "outputs": [
    {
     "data": {
      "text/plain": [
       "(299, 13)"
      ]
     },
     "execution_count": 30,
     "metadata": {},
     "output_type": "execute_result"
    }
   ],
   "source": [
    "# melihat jumlah baris dan kolom\n",
    "df.shape"
   ]
  },
  {
   "cell_type": "markdown",
   "id": "423e39bc",
   "metadata": {},
   "source": [
    "Terdapat **299 Baris** dan **13 Kolom**"
   ]
  },
  {
   "cell_type": "code",
   "execution_count": 31,
   "id": "e5227634",
   "metadata": {},
   "outputs": [
    {
     "name": "stdout",
     "output_type": "stream",
     "text": [
      "<class 'pandas.core.frame.DataFrame'>\n",
      "RangeIndex: 299 entries, 0 to 298\n",
      "Data columns (total 13 columns):\n",
      " #   Column                    Non-Null Count  Dtype  \n",
      "---  ------                    --------------  -----  \n",
      " 0   age                       299 non-null    float64\n",
      " 1   anaemia                   299 non-null    int64  \n",
      " 2   creatinine_phosphokinase  299 non-null    int64  \n",
      " 3   diabetes                  299 non-null    int64  \n",
      " 4   ejection_fraction         299 non-null    int64  \n",
      " 5   high_blood_pressure       299 non-null    int64  \n",
      " 6   platelets                 299 non-null    float64\n",
      " 7   serum_creatinine          299 non-null    float64\n",
      " 8   serum_sodium              299 non-null    int64  \n",
      " 9   sex                       299 non-null    int64  \n",
      " 10  smoking                   299 non-null    int64  \n",
      " 11  time                      299 non-null    int64  \n",
      " 12  DEATH_EVENT               299 non-null    int64  \n",
      "dtypes: float64(3), int64(10)\n",
      "memory usage: 30.5 KB\n"
     ]
    }
   ],
   "source": [
    "#melihat informasi setiap variabel\n",
    "df.info()"
   ]
  },
  {
   "cell_type": "code",
   "execution_count": 32,
   "id": "94d38ab6",
   "metadata": {},
   "outputs": [
    {
     "data": {
      "text/html": [
       "<div>\n",
       "<style scoped>\n",
       "    .dataframe tbody tr th:only-of-type {\n",
       "        vertical-align: middle;\n",
       "    }\n",
       "\n",
       "    .dataframe tbody tr th {\n",
       "        vertical-align: top;\n",
       "    }\n",
       "\n",
       "    .dataframe thead th {\n",
       "        text-align: right;\n",
       "    }\n",
       "</style>\n",
       "<table border=\"1\" class=\"dataframe\">\n",
       "  <thead>\n",
       "    <tr style=\"text-align: right;\">\n",
       "      <th></th>\n",
       "      <th>count</th>\n",
       "      <th>mean</th>\n",
       "      <th>std</th>\n",
       "      <th>min</th>\n",
       "      <th>25%</th>\n",
       "      <th>50%</th>\n",
       "      <th>75%</th>\n",
       "      <th>max</th>\n",
       "    </tr>\n",
       "  </thead>\n",
       "  <tbody>\n",
       "    <tr>\n",
       "      <th>age</th>\n",
       "      <td>299.0</td>\n",
       "      <td>60.833893</td>\n",
       "      <td>11.894809</td>\n",
       "      <td>40.0</td>\n",
       "      <td>51.0</td>\n",
       "      <td>60.0</td>\n",
       "      <td>70.0</td>\n",
       "      <td>95.0</td>\n",
       "    </tr>\n",
       "    <tr>\n",
       "      <th>anaemia</th>\n",
       "      <td>299.0</td>\n",
       "      <td>0.431438</td>\n",
       "      <td>0.496107</td>\n",
       "      <td>0.0</td>\n",
       "      <td>0.0</td>\n",
       "      <td>0.0</td>\n",
       "      <td>1.0</td>\n",
       "      <td>1.0</td>\n",
       "    </tr>\n",
       "    <tr>\n",
       "      <th>creatinine_phosphokinase</th>\n",
       "      <td>299.0</td>\n",
       "      <td>581.839465</td>\n",
       "      <td>970.287881</td>\n",
       "      <td>23.0</td>\n",
       "      <td>116.5</td>\n",
       "      <td>250.0</td>\n",
       "      <td>582.0</td>\n",
       "      <td>7861.0</td>\n",
       "    </tr>\n",
       "    <tr>\n",
       "      <th>diabetes</th>\n",
       "      <td>299.0</td>\n",
       "      <td>0.418060</td>\n",
       "      <td>0.494067</td>\n",
       "      <td>0.0</td>\n",
       "      <td>0.0</td>\n",
       "      <td>0.0</td>\n",
       "      <td>1.0</td>\n",
       "      <td>1.0</td>\n",
       "    </tr>\n",
       "    <tr>\n",
       "      <th>ejection_fraction</th>\n",
       "      <td>299.0</td>\n",
       "      <td>38.083612</td>\n",
       "      <td>11.834841</td>\n",
       "      <td>14.0</td>\n",
       "      <td>30.0</td>\n",
       "      <td>38.0</td>\n",
       "      <td>45.0</td>\n",
       "      <td>80.0</td>\n",
       "    </tr>\n",
       "    <tr>\n",
       "      <th>high_blood_pressure</th>\n",
       "      <td>299.0</td>\n",
       "      <td>0.351171</td>\n",
       "      <td>0.478136</td>\n",
       "      <td>0.0</td>\n",
       "      <td>0.0</td>\n",
       "      <td>0.0</td>\n",
       "      <td>1.0</td>\n",
       "      <td>1.0</td>\n",
       "    </tr>\n",
       "    <tr>\n",
       "      <th>platelets</th>\n",
       "      <td>299.0</td>\n",
       "      <td>263358.029264</td>\n",
       "      <td>97804.236869</td>\n",
       "      <td>25100.0</td>\n",
       "      <td>212500.0</td>\n",
       "      <td>262000.0</td>\n",
       "      <td>303500.0</td>\n",
       "      <td>850000.0</td>\n",
       "    </tr>\n",
       "    <tr>\n",
       "      <th>serum_creatinine</th>\n",
       "      <td>299.0</td>\n",
       "      <td>1.393880</td>\n",
       "      <td>1.034510</td>\n",
       "      <td>0.5</td>\n",
       "      <td>0.9</td>\n",
       "      <td>1.1</td>\n",
       "      <td>1.4</td>\n",
       "      <td>9.4</td>\n",
       "    </tr>\n",
       "    <tr>\n",
       "      <th>serum_sodium</th>\n",
       "      <td>299.0</td>\n",
       "      <td>136.625418</td>\n",
       "      <td>4.412477</td>\n",
       "      <td>113.0</td>\n",
       "      <td>134.0</td>\n",
       "      <td>137.0</td>\n",
       "      <td>140.0</td>\n",
       "      <td>148.0</td>\n",
       "    </tr>\n",
       "    <tr>\n",
       "      <th>sex</th>\n",
       "      <td>299.0</td>\n",
       "      <td>0.648829</td>\n",
       "      <td>0.478136</td>\n",
       "      <td>0.0</td>\n",
       "      <td>0.0</td>\n",
       "      <td>1.0</td>\n",
       "      <td>1.0</td>\n",
       "      <td>1.0</td>\n",
       "    </tr>\n",
       "    <tr>\n",
       "      <th>smoking</th>\n",
       "      <td>299.0</td>\n",
       "      <td>0.321070</td>\n",
       "      <td>0.467670</td>\n",
       "      <td>0.0</td>\n",
       "      <td>0.0</td>\n",
       "      <td>0.0</td>\n",
       "      <td>1.0</td>\n",
       "      <td>1.0</td>\n",
       "    </tr>\n",
       "    <tr>\n",
       "      <th>time</th>\n",
       "      <td>299.0</td>\n",
       "      <td>130.260870</td>\n",
       "      <td>77.614208</td>\n",
       "      <td>4.0</td>\n",
       "      <td>73.0</td>\n",
       "      <td>115.0</td>\n",
       "      <td>203.0</td>\n",
       "      <td>285.0</td>\n",
       "    </tr>\n",
       "    <tr>\n",
       "      <th>DEATH_EVENT</th>\n",
       "      <td>299.0</td>\n",
       "      <td>0.321070</td>\n",
       "      <td>0.467670</td>\n",
       "      <td>0.0</td>\n",
       "      <td>0.0</td>\n",
       "      <td>0.0</td>\n",
       "      <td>1.0</td>\n",
       "      <td>1.0</td>\n",
       "    </tr>\n",
       "  </tbody>\n",
       "</table>\n",
       "</div>"
      ],
      "text/plain": [
       "                          count           mean           std      min  \\\n",
       "age                       299.0      60.833893     11.894809     40.0   \n",
       "anaemia                   299.0       0.431438      0.496107      0.0   \n",
       "creatinine_phosphokinase  299.0     581.839465    970.287881     23.0   \n",
       "diabetes                  299.0       0.418060      0.494067      0.0   \n",
       "ejection_fraction         299.0      38.083612     11.834841     14.0   \n",
       "high_blood_pressure       299.0       0.351171      0.478136      0.0   \n",
       "platelets                 299.0  263358.029264  97804.236869  25100.0   \n",
       "serum_creatinine          299.0       1.393880      1.034510      0.5   \n",
       "serum_sodium              299.0     136.625418      4.412477    113.0   \n",
       "sex                       299.0       0.648829      0.478136      0.0   \n",
       "smoking                   299.0       0.321070      0.467670      0.0   \n",
       "time                      299.0     130.260870     77.614208      4.0   \n",
       "DEATH_EVENT               299.0       0.321070      0.467670      0.0   \n",
       "\n",
       "                               25%       50%       75%       max  \n",
       "age                           51.0      60.0      70.0      95.0  \n",
       "anaemia                        0.0       0.0       1.0       1.0  \n",
       "creatinine_phosphokinase     116.5     250.0     582.0    7861.0  \n",
       "diabetes                       0.0       0.0       1.0       1.0  \n",
       "ejection_fraction             30.0      38.0      45.0      80.0  \n",
       "high_blood_pressure            0.0       0.0       1.0       1.0  \n",
       "platelets                 212500.0  262000.0  303500.0  850000.0  \n",
       "serum_creatinine               0.9       1.1       1.4       9.4  \n",
       "serum_sodium                 134.0     137.0     140.0     148.0  \n",
       "sex                            0.0       1.0       1.0       1.0  \n",
       "smoking                        0.0       0.0       1.0       1.0  \n",
       "time                          73.0     115.0     203.0     285.0  \n",
       "DEATH_EVENT                    0.0       0.0       1.0       1.0  "
      ]
     },
     "execution_count": 32,
     "metadata": {},
     "output_type": "execute_result"
    }
   ],
   "source": [
    "df.describe().T"
   ]
  },
  {
   "cell_type": "markdown",
   "id": "69792bc5",
   "metadata": {},
   "source": [
    "## d. DATA CLEANING\n",
    "Pada tahap data cleaning, hal yang dilakukan adalah :\n",
    "- Mengecek missing value\n",
    "- Cek duplikasi data"
   ]
  },
  {
   "cell_type": "code",
   "execution_count": 33,
   "id": "c8c80770",
   "metadata": {},
   "outputs": [
    {
     "data": {
      "text/plain": [
       "age                         0\n",
       "anaemia                     0\n",
       "creatinine_phosphokinase    0\n",
       "diabetes                    0\n",
       "ejection_fraction           0\n",
       "high_blood_pressure         0\n",
       "platelets                   0\n",
       "serum_creatinine            0\n",
       "serum_sodium                0\n",
       "sex                         0\n",
       "smoking                     0\n",
       "time                        0\n",
       "DEATH_EVENT                 0\n",
       "dtype: int64"
      ]
     },
     "execution_count": 33,
     "metadata": {},
     "output_type": "execute_result"
    }
   ],
   "source": [
    "#mengecek missing value\n",
    "df.isnull().sum()"
   ]
  },
  {
   "cell_type": "markdown",
   "id": "02414249",
   "metadata": {},
   "source": [
    "Tidak ada **Missing Value**"
   ]
  },
  {
   "cell_type": "code",
   "execution_count": 34,
   "id": "da8d03ba",
   "metadata": {},
   "outputs": [
    {
     "data": {
      "text/plain": [
       "False"
      ]
     },
     "execution_count": 34,
     "metadata": {},
     "output_type": "execute_result"
    }
   ],
   "source": [
    "#cek duplikasi data\n",
    "df.duplicated().any()"
   ]
  },
  {
   "cell_type": "markdown",
   "id": "1d64384c",
   "metadata": {},
   "source": [
    "Tidak ada data yang **terduplikasi**"
   ]
  },
  {
   "cell_type": "markdown",
   "id": "62ce27f0",
   "metadata": {},
   "source": [
    "## e. DATA EXPLORATION\n",
    "- Dalam Data Exploration, kami melakukan beberapa analisis untuk mengetahui hubungan korelasi dengan variabel Death Event, diantaranya :\n",
    "- Analisis Jenis Kelamin (Sex) Pasien, Analisis Usia Pasien, Analisis Mengenai 'Diabetes', Analisis Mengenai 'Anemia', Analisis mengenai High Blood Pressure (Tekanan Darah Tinggi), Analisis Mengenai Creatinine Phosphokinase (CPK), Analisis Mengenai Ejection Fraction (EF), Analisis Mengenai Platelets (Trombosit), Analisis Serum Creatinine, Analisis Mengenai Serum Sodium, Analisis Smoking, Analisis Death Event, dan Analisis Time"
   ]
  },
  {
   "cell_type": "markdown",
   "id": "e5f9658f",
   "metadata": {},
   "source": [
    "**Mengubah variabel numerik** menjadi **categorical** untuk mempermudah penyampaian interpretasi dalam analisis dan visualisasi data"
   ]
  },
  {
   "cell_type": "code",
   "execution_count": 35,
   "id": "87947a0a",
   "metadata": {},
   "outputs": [
    {
     "data": {
      "text/html": [
       "<div>\n",
       "<style scoped>\n",
       "    .dataframe tbody tr th:only-of-type {\n",
       "        vertical-align: middle;\n",
       "    }\n",
       "\n",
       "    .dataframe tbody tr th {\n",
       "        vertical-align: top;\n",
       "    }\n",
       "\n",
       "    .dataframe thead th {\n",
       "        text-align: right;\n",
       "    }\n",
       "</style>\n",
       "<table border=\"1\" class=\"dataframe\">\n",
       "  <thead>\n",
       "    <tr style=\"text-align: right;\">\n",
       "      <th></th>\n",
       "      <th>age</th>\n",
       "      <th>anaemia</th>\n",
       "      <th>creatinine_phosphokinase</th>\n",
       "      <th>diabetes</th>\n",
       "      <th>ejection_fraction</th>\n",
       "      <th>high_blood_pressure</th>\n",
       "      <th>platelets</th>\n",
       "      <th>serum_creatinine</th>\n",
       "      <th>serum_sodium</th>\n",
       "      <th>sex</th>\n",
       "      <th>smoking</th>\n",
       "      <th>time</th>\n",
       "      <th>death_event</th>\n",
       "    </tr>\n",
       "  </thead>\n",
       "  <tbody>\n",
       "    <tr>\n",
       "      <th>0</th>\n",
       "      <td>75.0</td>\n",
       "      <td>no</td>\n",
       "      <td>582</td>\n",
       "      <td>no</td>\n",
       "      <td>20</td>\n",
       "      <td>yes</td>\n",
       "      <td>265000.00</td>\n",
       "      <td>1.9</td>\n",
       "      <td>130</td>\n",
       "      <td>male</td>\n",
       "      <td>no</td>\n",
       "      <td>4</td>\n",
       "      <td>yes</td>\n",
       "    </tr>\n",
       "    <tr>\n",
       "      <th>1</th>\n",
       "      <td>55.0</td>\n",
       "      <td>no</td>\n",
       "      <td>7861</td>\n",
       "      <td>no</td>\n",
       "      <td>38</td>\n",
       "      <td>no</td>\n",
       "      <td>263358.03</td>\n",
       "      <td>1.1</td>\n",
       "      <td>136</td>\n",
       "      <td>male</td>\n",
       "      <td>no</td>\n",
       "      <td>6</td>\n",
       "      <td>yes</td>\n",
       "    </tr>\n",
       "    <tr>\n",
       "      <th>2</th>\n",
       "      <td>65.0</td>\n",
       "      <td>no</td>\n",
       "      <td>146</td>\n",
       "      <td>no</td>\n",
       "      <td>20</td>\n",
       "      <td>no</td>\n",
       "      <td>162000.00</td>\n",
       "      <td>1.3</td>\n",
       "      <td>129</td>\n",
       "      <td>male</td>\n",
       "      <td>yes</td>\n",
       "      <td>7</td>\n",
       "      <td>yes</td>\n",
       "    </tr>\n",
       "    <tr>\n",
       "      <th>3</th>\n",
       "      <td>50.0</td>\n",
       "      <td>yes</td>\n",
       "      <td>111</td>\n",
       "      <td>no</td>\n",
       "      <td>20</td>\n",
       "      <td>no</td>\n",
       "      <td>210000.00</td>\n",
       "      <td>1.9</td>\n",
       "      <td>137</td>\n",
       "      <td>male</td>\n",
       "      <td>no</td>\n",
       "      <td>7</td>\n",
       "      <td>yes</td>\n",
       "    </tr>\n",
       "    <tr>\n",
       "      <th>4</th>\n",
       "      <td>65.0</td>\n",
       "      <td>yes</td>\n",
       "      <td>160</td>\n",
       "      <td>yes</td>\n",
       "      <td>20</td>\n",
       "      <td>no</td>\n",
       "      <td>327000.00</td>\n",
       "      <td>2.7</td>\n",
       "      <td>116</td>\n",
       "      <td>female</td>\n",
       "      <td>no</td>\n",
       "      <td>8</td>\n",
       "      <td>yes</td>\n",
       "    </tr>\n",
       "  </tbody>\n",
       "</table>\n",
       "</div>"
      ],
      "text/plain": [
       "    age anaemia  creatinine_phosphokinase diabetes  ejection_fraction  \\\n",
       "0  75.0      no                       582       no                 20   \n",
       "1  55.0      no                      7861       no                 38   \n",
       "2  65.0      no                       146       no                 20   \n",
       "3  50.0     yes                       111       no                 20   \n",
       "4  65.0     yes                       160      yes                 20   \n",
       "\n",
       "  high_blood_pressure  platelets  serum_creatinine  serum_sodium     sex  \\\n",
       "0                 yes  265000.00               1.9           130    male   \n",
       "1                  no  263358.03               1.1           136    male   \n",
       "2                  no  162000.00               1.3           129    male   \n",
       "3                  no  210000.00               1.9           137    male   \n",
       "4                  no  327000.00               2.7           116  female   \n",
       "\n",
       "  smoking  time death_event  \n",
       "0      no     4         yes  \n",
       "1      no     6         yes  \n",
       "2     yes     7         yes  \n",
       "3      no     7         yes  \n",
       "4      no     8         yes  "
      ]
     },
     "execution_count": 35,
     "metadata": {},
     "output_type": "execute_result"
    }
   ],
   "source": [
    "# mengubah data numerik menjadi categorical\n",
    "df_eda = pd.DataFrame()\n",
    "\n",
    "df_eda[\"age\"] = df[\"age\"]\n",
    "df_eda[\"anaemia\"] = np.where(df[\"anaemia\"] < 1, \"no\", \"yes\")\n",
    "df_eda[\"creatinine_phosphokinase\"] = df[\"creatinine_phosphokinase\"]\n",
    "df_eda[\"diabetes\"] = np.where(df[\"diabetes\"] < 1, \"no\", \"yes\")\n",
    "df_eda[\"ejection_fraction\"] = df[\"ejection_fraction\"]\n",
    "df_eda[\"high_blood_pressure\"] = np.where(df[\"high_blood_pressure\"] < 1, \"no\", \"yes\")\n",
    "df_eda[\"platelets\"] = df[\"platelets\"]\n",
    "df_eda[\"serum_creatinine\"] = df[\"serum_creatinine\"]\n",
    "df_eda[\"serum_sodium\"] = df[\"serum_sodium\"]\n",
    "df_eda[\"sex\"] = np.where(df[\"sex\"] < 1, \"female\", \"male\")\n",
    "df_eda[\"smoking\"] = np.where(df[\"smoking\"] < 1, \"no\", \"yes\")\n",
    "df_eda[\"time\"] = df[\"time\"]\n",
    "df_eda[\"death_event\"] = np.where(df[\"DEATH_EVENT\"] < 1, \"no\", \"yes\")\n",
    "\n",
    "df_eda.head()"
   ]
  },
  {
   "cell_type": "markdown",
   "id": "1801d60f",
   "metadata": {},
   "source": [
    "### 1. Analisis Jenis Kelamin (Sex) Pasien"
   ]
  },
  {
   "cell_type": "markdown",
   "id": "8eb02453",
   "metadata": {},
   "source": [
    "### 1.1 Lebih Banyak Pasien Pria atau Wanita?"
   ]
  },
  {
   "cell_type": "code",
   "execution_count": 36,
   "id": "5930071f",
   "metadata": {},
   "outputs": [],
   "source": [
    "sex = df_eda[\"sex\"].value_counts(normalize=True)*100"
   ]
  },
  {
   "cell_type": "code",
   "execution_count": 37,
   "id": "89baa2d9",
   "metadata": {},
   "outputs": [
    {
     "data": {
      "text/plain": [
       "male      64.882943\n",
       "female    35.117057\n",
       "Name: sex, dtype: float64"
      ]
     },
     "execution_count": 37,
     "metadata": {},
     "output_type": "execute_result"
    }
   ],
   "source": [
    "sex"
   ]
  },
  {
   "cell_type": "code",
   "execution_count": 38,
   "id": "8055e21d",
   "metadata": {},
   "outputs": [
    {
     "data": {
      "image/png": "[encoded data removed]",
      "text/plain": [
       "<Figure size 360x288 with 1 Axes>"
      ]
     },
     "metadata": {
      "needs_background": "light"
     },
     "output_type": "display_data"
    }
   ],
   "source": [
    "sex.plot(kind='bar', figsize=(5,4), color=['hotpink','plum'])\n",
    "\n",
    "plt.title('Persentase Jenis Kelamin Pasien')\n",
    "plt.xlabel('Sex')\n",
    "plt.ylabel('Persentase')\n",
    "\n",
    "plt.show()"
   ]
  },
  {
   "cell_type": "markdown",
   "id": "9401f94d",
   "metadata": {},
   "source": [
    "**Interpretasi :**\n",
    "- Keterangan : 0 = wanita, 1 = pria\n",
    "- Persentase pasien pria ada 64.88%\n",
    "- Persentase pasien wanita ada 35.11%"
   ]
  },
  {
   "cell_type": "markdown",
   "id": "56805e6b",
   "metadata": {},
   "source": [
    "### 1.2 Bagaimana Persentase Death Event Pada Pasien Wanita dan Pria?"
   ]
  },
  {
   "cell_type": "code",
   "execution_count": 39,
   "id": "9ba61818",
   "metadata": {},
   "outputs": [],
   "source": [
    "df5 = df[(df[\"sex\"] == 0) & (df[\"DEATH_EVENT\"] == 1)]\n",
    "df6 = df[(df[\"sex\"] == 1) & (df[\"DEATH_EVENT\"] == 1)]\n",
    "sex_death = pd.concat([df5, df6])"
   ]
  },
  {
   "cell_type": "code",
   "execution_count": 40,
   "id": "00288983",
   "metadata": {},
   "outputs": [
    {
     "data": {
      "image/png": "[encoded data removed]",
      "text/plain": [
       "<Figure size 1080x288 with 1 Axes>"
      ]
     },
     "metadata": {},
     "output_type": "display_data"
    }
   ],
   "source": [
    "fig, ax = plt.subplots(figsize=(15, 4))\n",
    "\n",
    "sex_death[\"sex\"].value_counts().plot.pie(autopct=\"%1.1f%%\", ax=ax, shadow=True, explode=[0, 0.1])\n",
    "ax.set_title('Persentase Death Event Pasien Wanita dan Pria')\n",
    "\n",
    "plt.show()"
   ]
  },
  {
   "cell_type": "markdown",
   "id": "eaeff1da",
   "metadata": {},
   "source": [
    "**Interpretasi :**\n",
    "- Keterangan :\n",
    "0 = Wanita, 1 = Pria\n",
    "- 64,6% pasien yang meninggal pria\n",
    "- 35,4% pasien yang meninggal wanita"
   ]
  },
  {
   "cell_type": "markdown",
   "id": "abbe248d",
   "metadata": {},
   "source": [
    "### 2. Analisis Usia Pasien"
   ]
  },
  {
   "cell_type": "markdown",
   "id": "04ce3e8d",
   "metadata": {},
   "source": [
    "### 2.2 Usia Max, Min, dan Mean Pasien?"
   ]
  },
  {
   "cell_type": "code",
   "execution_count": 41,
   "id": "427e50ba",
   "metadata": {},
   "outputs": [
    {
     "data": {
      "text/plain": [
       "95.0"
      ]
     },
     "execution_count": 41,
     "metadata": {},
     "output_type": "execute_result"
    }
   ],
   "source": [
    "# usia maksimal pasien\n",
    "age_max = df[\"age\"].max()\n",
    "age_max"
   ]
  },
  {
   "cell_type": "code",
   "execution_count": 42,
   "id": "1472af36",
   "metadata": {},
   "outputs": [
    {
     "data": {
      "text/plain": [
       "40.0"
      ]
     },
     "execution_count": 42,
     "metadata": {},
     "output_type": "execute_result"
    }
   ],
   "source": [
    "# usia minimal pasien\n",
    "age_min = df[\"age\"].min()\n",
    "age_min"
   ]
  },
  {
   "cell_type": "code",
   "execution_count": 43,
   "id": "4319c027",
   "metadata": {},
   "outputs": [
    {
     "data": {
      "text/plain": [
       "60.83389297658862"
      ]
     },
     "execution_count": 43,
     "metadata": {},
     "output_type": "execute_result"
    }
   ],
   "source": [
    "# usia rata-rata pasien\n",
    "age_mean = df[\"age\"].mean()\n",
    "age_mean"
   ]
  },
  {
   "cell_type": "markdown",
   "id": "a8f91b22",
   "metadata": {},
   "source": [
    "**Interpretasi :**\n",
    "- Usia maksimal pasien 95 tahun\n",
    "- Usia minimum pasien 40 tahun\n",
    "- Rata-rata usia pasien 60 tahun"
   ]
  },
  {
   "cell_type": "markdown",
   "id": "c7bb2ca7",
   "metadata": {},
   "source": [
    "### 2.3 Apakah Age berpengaruh terhadap Death Event?"
   ]
  },
  {
   "cell_type": "code",
   "execution_count": 107,
   "id": "c4f7c8bc",
   "metadata": {},
   "outputs": [
    {
     "data": {
      "image/png": "[encoded data removed]",
      "text/plain": [
       "<Figure size 720x360 with 1 Axes>"
      ]
     },
     "metadata": {
      "needs_background": "light"
     },
     "output_type": "display_data"
    }
   ],
   "source": [
    "fig, ax = subplts()\n",
    "\n",
    "plot_hist_hue(\"age\", \"DEATH_EVENT\", ax)\n",
    "ax.set_title('Death Event berdasarkan Time')\n",
    "\n",
    "plt.show()"
   ]
  },
  {
   "cell_type": "markdown",
   "id": "ec5292b8",
   "metadata": {},
   "source": [
    "**Interpretasi:**\n",
    "- Berdasarkan visualisasi data diatas, semakin bertambah usia, lebih banyak jumlah pasien yang meninggal (seperti pada usia 60 dan 70-an). \n",
    "- Sehingga Usia (Age) berpengaruh terhadap Death Event."
   ]
  },
  {
   "cell_type": "markdown",
   "id": "1c995e24",
   "metadata": {},
   "source": [
    "### 3. Analisis Mengenai 'Diabetes'"
   ]
  },
  {
   "cell_type": "markdown",
   "id": "682c7601",
   "metadata": {},
   "source": [
    "### 3.1 Berapa persentase pasien yang mengidap diabetes?"
   ]
  },
  {
   "cell_type": "code",
   "execution_count": 45,
   "id": "9fe5e212",
   "metadata": {},
   "outputs": [],
   "source": [
    "diabetes = df_eda['diabetes'].value_counts(normalize=True)*100"
   ]
  },
  {
   "cell_type": "code",
   "execution_count": 46,
   "id": "6343707e",
   "metadata": {},
   "outputs": [
    {
     "data": {
      "text/plain": [
       "no     58.19398\n",
       "yes    41.80602\n",
       "Name: diabetes, dtype: float64"
      ]
     },
     "execution_count": 46,
     "metadata": {},
     "output_type": "execute_result"
    }
   ],
   "source": [
    "diabetes"
   ]
  },
  {
   "cell_type": "code",
   "execution_count": 47,
   "id": "cc7bca67",
   "metadata": {},
   "outputs": [
    {
     "data": {
      "image/png": "[encoded data removed]",
      "text/plain": [
       "<Figure size 360x288 with 1 Axes>"
      ]
     },
     "metadata": {
      "needs_background": "light"
     },
     "output_type": "display_data"
    }
   ],
   "source": [
    "diabetes.plot(kind='bar', figsize=(5,4), color=['hotpink','plum'],legend=None)\n",
    "plt.title('Pasien yang memiliki riwayat diabetes berdasarkan jenis kelamin')\n",
    "plt.xlabel('Diabetes')\n",
    "plt.ylabel('Persentase')\n",
    "plt.show()"
   ]
  },
  {
   "cell_type": "markdown",
   "id": "f74073f0",
   "metadata": {},
   "source": [
    "**Interpretasi :**\n",
    "- Terdapat 58.2% Pasien yang tidak memiliki riwayat penyakit diabetes\n",
    "- 41.8% Pasien yang memiliki riwayat penyakit diabetes"
   ]
  },
  {
   "cell_type": "markdown",
   "id": "5b0335c2",
   "metadata": {},
   "source": [
    "### 3.2 Apakah Mengidap Diabetes berpengaruh terhadap Death Event?"
   ]
  },
  {
   "cell_type": "code",
   "execution_count": 48,
   "id": "7c828481",
   "metadata": {},
   "outputs": [
    {
     "data": {
      "text/html": [
       "<div>\n",
       "<style scoped>\n",
       "    .dataframe tbody tr th:only-of-type {\n",
       "        vertical-align: middle;\n",
       "    }\n",
       "\n",
       "    .dataframe tbody tr th {\n",
       "        vertical-align: top;\n",
       "    }\n",
       "\n",
       "    .dataframe thead th {\n",
       "        text-align: right;\n",
       "    }\n",
       "</style>\n",
       "<table border=\"1\" class=\"dataframe\">\n",
       "  <thead>\n",
       "    <tr style=\"text-align: right;\">\n",
       "      <th></th>\n",
       "      <th>age</th>\n",
       "      <th>anaemia</th>\n",
       "      <th>creatinine_phosphokinase</th>\n",
       "      <th>diabetes</th>\n",
       "      <th>ejection_fraction</th>\n",
       "      <th>high_blood_pressure</th>\n",
       "      <th>platelets</th>\n",
       "      <th>serum_creatinine</th>\n",
       "      <th>serum_sodium</th>\n",
       "      <th>sex</th>\n",
       "      <th>smoking</th>\n",
       "      <th>time</th>\n",
       "      <th>death_event</th>\n",
       "    </tr>\n",
       "  </thead>\n",
       "  <tbody>\n",
       "    <tr>\n",
       "      <th>4</th>\n",
       "      <td>65.0</td>\n",
       "      <td>yes</td>\n",
       "      <td>160</td>\n",
       "      <td>yes</td>\n",
       "      <td>20</td>\n",
       "      <td>no</td>\n",
       "      <td>327000.0</td>\n",
       "      <td>2.7</td>\n",
       "      <td>116</td>\n",
       "      <td>female</td>\n",
       "      <td>no</td>\n",
       "      <td>8</td>\n",
       "      <td>yes</td>\n",
       "    </tr>\n",
       "  </tbody>\n",
       "</table>\n",
       "</div>"
      ],
      "text/plain": [
       "    age anaemia  creatinine_phosphokinase diabetes  ejection_fraction  \\\n",
       "4  65.0     yes                       160      yes                 20   \n",
       "\n",
       "  high_blood_pressure  platelets  serum_creatinine  serum_sodium     sex  \\\n",
       "4                  no   327000.0               2.7           116  female   \n",
       "\n",
       "  smoking  time death_event  \n",
       "4      no     8         yes  "
      ]
     },
     "execution_count": 48,
     "metadata": {},
     "output_type": "execute_result"
    }
   ],
   "source": [
    "df_eda[4:5]"
   ]
  },
  {
   "cell_type": "markdown",
   "id": "2b94bf4f",
   "metadata": {},
   "source": [
    "- Tabel diatas merupakan data pasien yang mengidap **Diabetes** dan **meninggal**.\n",
    "- Sehingga, **Diabetes** **berpengaruh** terhadap Death Event."
   ]
  },
  {
   "cell_type": "markdown",
   "id": "c6ae8256",
   "metadata": {},
   "source": [
    "### 3.3 Apakah pasien yang mengidap Diabetes mempunyai presentase kematian (Death Event) yang tinggi?"
   ]
  },
  {
   "cell_type": "code",
   "execution_count": 49,
   "id": "155b780a",
   "metadata": {},
   "outputs": [],
   "source": [
    "df1 = df[(df[\"diabetes\"] == 0) & (df[\"DEATH_EVENT\"] == 1)]\n",
    "df2 = df[(df[\"diabetes\"] == 1) & (df[\"DEATH_EVENT\"] == 1)]\n",
    "\n",
    "diabetes_death = pd.concat([df1, df2])"
   ]
  },
  {
   "cell_type": "code",
   "execution_count": 50,
   "id": "e8b7511d",
   "metadata": {},
   "outputs": [
    {
     "data": {
      "image/png": "[encoded data removed]",
      "text/plain": [
       "<Figure size 1080x288 with 1 Axes>"
      ]
     },
     "metadata": {},
     "output_type": "display_data"
    }
   ],
   "source": [
    "fig, ax = plt.subplots(figsize=(15, 4))\n",
    "\n",
    "diabetes_death[\"diabetes\"].value_counts().plot.pie(autopct=\"%1.1f%%\", ax=ax, shadow=True, explode=[0, 0.1])\n",
    "ax.set_title('Persentase Death Event Pasien Yang Mengidap Diabetes dan Tidak Mengidap Diabetes')\n",
    "plt.show()"
   ]
  },
  {
   "cell_type": "markdown",
   "id": "f4d9a9c6",
   "metadata": {},
   "source": [
    "**Interpretasi :**\n",
    "- Keterangan :\n",
    "0 = tidak mengidap penyakit diabetes, 1 = mengidap penyakit diabetes\n",
    "- Terdapat 58,3% pasien yang meninggal adalah pasien yang tidak mengidap penyakit diabetes \n",
    "- Terdapat 41,7% pasien yang meninggal adalah pasien yang mengidap penyakit diabetes \n",
    "- Sehingga, berdasarkan piechart pasien yang tidak mengidap diabetes memiliki presentase meninggal yang lebih tinggi."
   ]
  },
  {
   "cell_type": "markdown",
   "id": "28dfc2b6",
   "metadata": {},
   "source": [
    "### 4. Analisis Mengenai 'Anemia'"
   ]
  },
  {
   "cell_type": "markdown",
   "id": "aec11eeb",
   "metadata": {},
   "source": [
    "### 4.1 Berapa persentase pasien yang memiliki anemia?"
   ]
  },
  {
   "cell_type": "code",
   "execution_count": 51,
   "id": "44a80c95",
   "metadata": {},
   "outputs": [],
   "source": [
    "anaemia = df_eda[\"anaemia\"].value_counts(normalize=True)*100"
   ]
  },
  {
   "cell_type": "code",
   "execution_count": 52,
   "id": "d4008bbb",
   "metadata": {},
   "outputs": [
    {
     "data": {
      "text/plain": [
       "no     56.856187\n",
       "yes    43.143813\n",
       "Name: anaemia, dtype: float64"
      ]
     },
     "execution_count": 52,
     "metadata": {},
     "output_type": "execute_result"
    }
   ],
   "source": [
    "anaemia"
   ]
  },
  {
   "cell_type": "code",
   "execution_count": 53,
   "id": "ca26e473",
   "metadata": {},
   "outputs": [
    {
     "data": {
      "image/png": "[encoded data removed]",
      "text/plain": [
       "<Figure size 360x288 with 1 Axes>"
      ]
     },
     "metadata": {
      "needs_background": "light"
     },
     "output_type": "display_data"
    }
   ],
   "source": [
    "anaemia.plot(kind='bar', figsize=(5,4), color=['lightsteelblue','darkseagreen'])\n",
    "\n",
    "plt.title('Persentase Pasien yang memiliki anemia')\n",
    "plt.xlabel('Anaemia')\n",
    "plt.ylabel('Persentase')\n",
    "\n",
    "plt.show()"
   ]
  },
  {
   "cell_type": "markdown",
   "id": "724a3268",
   "metadata": {},
   "source": [
    "**Interpretasi :**\n",
    "- Ada 43.14% Pasien yang mengidap anaemia\n",
    "- Ada 56.85% Pasien yang tidak mengidap anaemia"
   ]
  },
  {
   "cell_type": "markdown",
   "id": "89f4d216",
   "metadata": {},
   "source": [
    "### 4.2 Apakah Mengidap Anemia berpengaruh terhadap Death Event?"
   ]
  },
  {
   "cell_type": "code",
   "execution_count": 54,
   "id": "6813c587",
   "metadata": {},
   "outputs": [
    {
     "data": {
      "text/html": [
       "<div>\n",
       "<style scoped>\n",
       "    .dataframe tbody tr th:only-of-type {\n",
       "        vertical-align: middle;\n",
       "    }\n",
       "\n",
       "    .dataframe tbody tr th {\n",
       "        vertical-align: top;\n",
       "    }\n",
       "\n",
       "    .dataframe thead th {\n",
       "        text-align: right;\n",
       "    }\n",
       "</style>\n",
       "<table border=\"1\" class=\"dataframe\">\n",
       "  <thead>\n",
       "    <tr style=\"text-align: right;\">\n",
       "      <th></th>\n",
       "      <th>age</th>\n",
       "      <th>anaemia</th>\n",
       "      <th>creatinine_phosphokinase</th>\n",
       "      <th>diabetes</th>\n",
       "      <th>ejection_fraction</th>\n",
       "      <th>high_blood_pressure</th>\n",
       "      <th>platelets</th>\n",
       "      <th>serum_creatinine</th>\n",
       "      <th>serum_sodium</th>\n",
       "      <th>sex</th>\n",
       "      <th>smoking</th>\n",
       "      <th>time</th>\n",
       "      <th>death_event</th>\n",
       "    </tr>\n",
       "  </thead>\n",
       "  <tbody>\n",
       "    <tr>\n",
       "      <th>4</th>\n",
       "      <td>65.0</td>\n",
       "      <td>yes</td>\n",
       "      <td>160</td>\n",
       "      <td>yes</td>\n",
       "      <td>20</td>\n",
       "      <td>no</td>\n",
       "      <td>327000.0</td>\n",
       "      <td>2.7</td>\n",
       "      <td>116</td>\n",
       "      <td>female</td>\n",
       "      <td>no</td>\n",
       "      <td>8</td>\n",
       "      <td>yes</td>\n",
       "    </tr>\n",
       "  </tbody>\n",
       "</table>\n",
       "</div>"
      ],
      "text/plain": [
       "    age anaemia  creatinine_phosphokinase diabetes  ejection_fraction  \\\n",
       "4  65.0     yes                       160      yes                 20   \n",
       "\n",
       "  high_blood_pressure  platelets  serum_creatinine  serum_sodium     sex  \\\n",
       "4                  no   327000.0               2.7           116  female   \n",
       "\n",
       "  smoking  time death_event  \n",
       "4      no     8         yes  "
      ]
     },
     "execution_count": 54,
     "metadata": {},
     "output_type": "execute_result"
    }
   ],
   "source": [
    "df_eda[4:5]"
   ]
  },
  {
   "cell_type": "markdown",
   "id": "5ac6d735",
   "metadata": {},
   "source": [
    "- Tabel diatas merupakan data pasien yang mengidap **Anemia** dan **meninggal**.\n",
    "- Sehingga, **Anemia** **berpengaruh** terhadap Death Event."
   ]
  },
  {
   "cell_type": "markdown",
   "id": "e98b0958",
   "metadata": {},
   "source": [
    "### 4.3 Apakah pasien yang mengidap Anemia mempunyai presentase kematian (Death Event) yang tinggi?"
   ]
  },
  {
   "cell_type": "code",
   "execution_count": 55,
   "id": "853d1ded",
   "metadata": {},
   "outputs": [],
   "source": [
    "df1 = df[(df[\"anaemia\"] == 0) & (df[\"DEATH_EVENT\"] == 1)]\n",
    "df2 = df[(df[\"anaemia\"] == 1) & (df[\"DEATH_EVENT\"] == 1)]\n",
    "\n",
    "df_anemia_death = pd.concat([df1, df2])"
   ]
  },
  {
   "cell_type": "code",
   "execution_count": 56,
   "id": "05079507",
   "metadata": {},
   "outputs": [
    {
     "data": {
      "image/png": "[encoded data removed]",
      "text/plain": [
       "<Figure size 1080x288 with 1 Axes>"
      ]
     },
     "metadata": {},
     "output_type": "display_data"
    }
   ],
   "source": [
    "fig, ax = plt.subplots(figsize=(15, 4))\n",
    "\n",
    "df_anemia_death[\"anaemia\"].value_counts().plot.pie(autopct=\"%1.1f%%\", ax=ax, shadow=True, explode=[0, 0.1])\n",
    "ax.set_title('Persentase Death Event Pasien Yang Mengidap Anemia dan Tidak Mengidap Anemia')\n",
    "plt.show()"
   ]
  },
  {
   "cell_type": "markdown",
   "id": "56286856",
   "metadata": {},
   "source": [
    "**Interpretasi :**\n",
    "- Keterangan :\n",
    "0 = tidak mengidap penyakit anemia, 1 = mengidap penyakit anemia\n",
    "- 52,1% pasien yang meninggal tidak mengidap penyakit anemia \n",
    "- 47,9% pasien yang meninggal mengidap penyakit anemia \n",
    "- Sehingga, pasien yang tidak mengidap anemia mempunyai presentase meninggal lebih tinggi."
   ]
  },
  {
   "cell_type": "markdown",
   "id": "1c5b2bd7",
   "metadata": {},
   "source": [
    "### 5. Analisis mengenai High Blood Pressure (Tekanan Darah Tinggi)"
   ]
  },
  {
   "cell_type": "markdown",
   "id": "f3819698",
   "metadata": {},
   "source": [
    "### 5.1 Berapa persentase pasien yang memiliki High Blood Pressure (Tekanan Darah Tinggi)?"
   ]
  },
  {
   "cell_type": "code",
   "execution_count": 57,
   "id": "503640d0",
   "metadata": {},
   "outputs": [],
   "source": [
    "highbloodpressure = df_eda[\"high_blood_pressure\"].value_counts(normalize=True)*100"
   ]
  },
  {
   "cell_type": "code",
   "execution_count": 58,
   "id": "742e2f15",
   "metadata": {},
   "outputs": [
    {
     "data": {
      "text/plain": [
       "no     64.882943\n",
       "yes    35.117057\n",
       "Name: high_blood_pressure, dtype: float64"
      ]
     },
     "execution_count": 58,
     "metadata": {},
     "output_type": "execute_result"
    }
   ],
   "source": [
    "highbloodpressure"
   ]
  },
  {
   "cell_type": "code",
   "execution_count": 59,
   "id": "578fc018",
   "metadata": {},
   "outputs": [
    {
     "data": {
      "image/png": "[encoded data removed]",
      "text/plain": [
       "<Figure size 360x288 with 1 Axes>"
      ]
     },
     "metadata": {
      "needs_background": "light"
     },
     "output_type": "display_data"
    }
   ],
   "source": [
    "highbloodpressure.plot(kind='bar', figsize=(5,4), color=['lightsteelblue','darkseagreen'])\n",
    "\n",
    "plt.title('Persentase Pasien yang memiliki High Blood Pressure')\n",
    "plt.xlabel('High Blood Pressure')\n",
    "plt.ylabel('Persentase')\n",
    "\n",
    "plt.show()"
   ]
  },
  {
   "cell_type": "markdown",
   "id": "41b9eefb",
   "metadata": {},
   "source": [
    "**Interpretasi :**\n",
    "- Terdapat 64.9% pasien yang tidak memiliki High Blood Pressure\n",
    "- Terdapat 35.1% pasien yang memiliki tekanan High Blood Pressure"
   ]
  },
  {
   "cell_type": "markdown",
   "id": "609e8d11",
   "metadata": {},
   "source": [
    "### 5.2 Apakah Mengidap High Blood Pressure berpengaruh terhadap Death Event?"
   ]
  },
  {
   "cell_type": "code",
   "execution_count": 60,
   "id": "fcb0e7cc",
   "metadata": {},
   "outputs": [
    {
     "data": {
      "text/html": [
       "<div>\n",
       "<style scoped>\n",
       "    .dataframe tbody tr th:only-of-type {\n",
       "        vertical-align: middle;\n",
       "    }\n",
       "\n",
       "    .dataframe tbody tr th {\n",
       "        vertical-align: top;\n",
       "    }\n",
       "\n",
       "    .dataframe thead th {\n",
       "        text-align: right;\n",
       "    }\n",
       "</style>\n",
       "<table border=\"1\" class=\"dataframe\">\n",
       "  <thead>\n",
       "    <tr style=\"text-align: right;\">\n",
       "      <th></th>\n",
       "      <th>age</th>\n",
       "      <th>anaemia</th>\n",
       "      <th>creatinine_phosphokinase</th>\n",
       "      <th>diabetes</th>\n",
       "      <th>ejection_fraction</th>\n",
       "      <th>high_blood_pressure</th>\n",
       "      <th>platelets</th>\n",
       "      <th>serum_creatinine</th>\n",
       "      <th>serum_sodium</th>\n",
       "      <th>sex</th>\n",
       "      <th>smoking</th>\n",
       "      <th>time</th>\n",
       "      <th>death_event</th>\n",
       "    </tr>\n",
       "  </thead>\n",
       "  <tbody>\n",
       "    <tr>\n",
       "      <th>0</th>\n",
       "      <td>75.0</td>\n",
       "      <td>no</td>\n",
       "      <td>582</td>\n",
       "      <td>no</td>\n",
       "      <td>20</td>\n",
       "      <td>yes</td>\n",
       "      <td>265000.0</td>\n",
       "      <td>1.9</td>\n",
       "      <td>130</td>\n",
       "      <td>male</td>\n",
       "      <td>no</td>\n",
       "      <td>4</td>\n",
       "      <td>yes</td>\n",
       "    </tr>\n",
       "  </tbody>\n",
       "</table>\n",
       "</div>"
      ],
      "text/plain": [
       "    age anaemia  creatinine_phosphokinase diabetes  ejection_fraction  \\\n",
       "0  75.0      no                       582       no                 20   \n",
       "\n",
       "  high_blood_pressure  platelets  serum_creatinine  serum_sodium   sex  \\\n",
       "0                 yes   265000.0               1.9           130  male   \n",
       "\n",
       "  smoking  time death_event  \n",
       "0      no     4         yes  "
      ]
     },
     "execution_count": 60,
     "metadata": {},
     "output_type": "execute_result"
    }
   ],
   "source": [
    "df_eda[0:1]"
   ]
  },
  {
   "cell_type": "markdown",
   "id": "14b6a4b8",
   "metadata": {},
   "source": [
    "- Tabel diatas merupakan data pasien yang mengidap **High Blood Pressure** dan **meninggal**.\n",
    "- Sehingga, **High Blood Pressure** **berpengaruh** terhadap Death Event."
   ]
  },
  {
   "cell_type": "markdown",
   "id": "6c63d8bf",
   "metadata": {},
   "source": [
    "### 5.3 Apakah pasien yang mengidap High Blood Pressure mempunyai presentase kematian (Death Event) yang tinggi?"
   ]
  },
  {
   "cell_type": "code",
   "execution_count": 61,
   "id": "bb772464",
   "metadata": {},
   "outputs": [],
   "source": [
    "df3 = df[(df[\"high_blood_pressure\"] == 0) & (df[\"DEATH_EVENT\"] == 1)]\n",
    "df4 = df[(df[\"high_blood_pressure\"] == 1) & (df[\"DEATH_EVENT\"] == 1)]\n",
    "\n",
    "highblood_death = pd.concat([df3, df4])"
   ]
  },
  {
   "cell_type": "code",
   "execution_count": 62,
   "id": "3c7283d9",
   "metadata": {},
   "outputs": [
    {
     "data": {
      "image/png": "[encoded data removed]",
      "text/plain": [
       "<Figure size 1080x288 with 1 Axes>"
      ]
     },
     "metadata": {},
     "output_type": "display_data"
    }
   ],
   "source": [
    "fig, ax = plt.subplots(figsize=(15, 4))\n",
    "\n",
    "highblood_death[\"high_blood_pressure\"].value_counts().plot.pie(autopct=\"%1.1f%%\", ax=ax, shadow=True, explode=[0, 0.1])\n",
    "ax.set_title('Persentase Death Event Pasien Yang Mengidap dan Tidak Mengidap High Blood Pressure')\n",
    "\n",
    "plt.show()"
   ]
  },
  {
   "cell_type": "markdown",
   "id": "37a90d7a",
   "metadata": {},
   "source": [
    "**Interpretasi :**\n",
    "- Keterangan :\n",
    "0 = tidak mengidap High Blood Pressure, 1 = mengidap penyakit High Blood Pressure\n",
    "- Ada 59,4% pasien yang meninggal tidak mengidap penyakit High Blood Pressure \n",
    "- Ada 40,6% pasien yang meninggal mengidap penyakit High Blood Pressure \n",
    "- Sehingga, pasien yang tidak mengidap penyakit High Blood Pressure memiliki presentase meninggal lebih tinggi"
   ]
  },
  {
   "cell_type": "markdown",
   "id": "23f17c73",
   "metadata": {},
   "source": [
    "### 6. Analisis Mengenai Creatinine Phosphokinase (CPK) "
   ]
  },
  {
   "cell_type": "markdown",
   "id": "7e1d2b0d",
   "metadata": {},
   "source": [
    "### 6.1 Rata-rata level Enzim Creatinine Phosphokinase (CPK) yang dimiliki pasien"
   ]
  },
  {
   "cell_type": "code",
   "execution_count": 63,
   "id": "df68e199",
   "metadata": {},
   "outputs": [
    {
     "data": {
      "text/plain": [
       "581.8394648829432"
      ]
     },
     "execution_count": 63,
     "metadata": {},
     "output_type": "execute_result"
    }
   ],
   "source": [
    "df[\"creatinine_phosphokinase\"].mean()"
   ]
  },
  {
   "cell_type": "markdown",
   "id": "86fe1f99",
   "metadata": {},
   "source": [
    "**Rata-rata** Level Enzim Creatinine Phosphokinase (CPK) yang dimiliki pasien yaitu **582 mcg/L**"
   ]
  },
  {
   "cell_type": "markdown",
   "id": "9f43ab30",
   "metadata": {},
   "source": [
    "### 6.2 Apakah Level Enzim Creatinine Phosphokinase (CPK) yang tinggi berpengaruh terhadap Death Event?"
   ]
  },
  {
   "cell_type": "markdown",
   "id": "591c3952",
   "metadata": {},
   "source": [
    "Melihat data pasien dengan Level **Creatinine Phosphokinase** (CPK) **tertinggi**"
   ]
  },
  {
   "cell_type": "code",
   "execution_count": 64,
   "id": "425d1d54",
   "metadata": {},
   "outputs": [
    {
     "data": {
      "text/html": [
       "<div>\n",
       "<style scoped>\n",
       "    .dataframe tbody tr th:only-of-type {\n",
       "        vertical-align: middle;\n",
       "    }\n",
       "\n",
       "    .dataframe tbody tr th {\n",
       "        vertical-align: top;\n",
       "    }\n",
       "\n",
       "    .dataframe thead th {\n",
       "        text-align: right;\n",
       "    }\n",
       "</style>\n",
       "<table border=\"1\" class=\"dataframe\">\n",
       "  <thead>\n",
       "    <tr style=\"text-align: right;\">\n",
       "      <th></th>\n",
       "      <th>age</th>\n",
       "      <th>anaemia</th>\n",
       "      <th>creatinine_phosphokinase</th>\n",
       "      <th>diabetes</th>\n",
       "      <th>ejection_fraction</th>\n",
       "      <th>high_blood_pressure</th>\n",
       "      <th>platelets</th>\n",
       "      <th>serum_creatinine</th>\n",
       "      <th>serum_sodium</th>\n",
       "      <th>sex</th>\n",
       "      <th>smoking</th>\n",
       "      <th>time</th>\n",
       "      <th>death_event</th>\n",
       "    </tr>\n",
       "  </thead>\n",
       "  <tbody>\n",
       "    <tr>\n",
       "      <th>1</th>\n",
       "      <td>55.0</td>\n",
       "      <td>no</td>\n",
       "      <td>7861</td>\n",
       "      <td>no</td>\n",
       "      <td>38</td>\n",
       "      <td>no</td>\n",
       "      <td>263358.03</td>\n",
       "      <td>1.1</td>\n",
       "      <td>136</td>\n",
       "      <td>male</td>\n",
       "      <td>no</td>\n",
       "      <td>6</td>\n",
       "      <td>yes</td>\n",
       "    </tr>\n",
       "  </tbody>\n",
       "</table>\n",
       "</div>"
      ],
      "text/plain": [
       "    age anaemia  creatinine_phosphokinase diabetes  ejection_fraction  \\\n",
       "1  55.0      no                      7861       no                 38   \n",
       "\n",
       "  high_blood_pressure  platelets  serum_creatinine  serum_sodium   sex  \\\n",
       "1                  no  263358.03               1.1           136  male   \n",
       "\n",
       "  smoking  time death_event  \n",
       "1      no     6         yes  "
      ]
     },
     "execution_count": 64,
     "metadata": {},
     "output_type": "execute_result"
    }
   ],
   "source": [
    "cpk_max_val = np.amax(df[\"creatinine_phosphokinase\"].values)\n",
    "\n",
    "df_eda[df_eda[\"creatinine_phosphokinase\"] == cpk_max_val]"
   ]
  },
  {
   "cell_type": "markdown",
   "id": "7c9da509",
   "metadata": {},
   "source": [
    "- **Creatine Phosphokinase (CPK)** adalah  adalah **enzim** yang ditemukan dalam **jaringan otot rangka dan serat jantung.**\n",
    "- Total Kadar normalnya adalah **10 hingga 120 mikrogram per liter (mcg/L)**\n",
    "- Tabel diatas merupakan data pasien dengan **Level Enzim Creatine Phosphokinase (CPK) tertinggi (7.861 mcg/L)** dan **meninggal**.\n",
    "- Sehingga, **Level Enzim Creatine Phosphokinase (CPK) yang tinggi** atau melebihi batas normal **berpengaruh** terhadap Death Event."
   ]
  },
  {
   "cell_type": "markdown",
   "id": "15936caf",
   "metadata": {},
   "source": [
    "### 7. Analisis Mengenai Ejection Fraction (EF)"
   ]
  },
  {
   "cell_type": "markdown",
   "id": "374b59ae",
   "metadata": {},
   "source": [
    "### 7.1 Bagaimana Rata-rata Presentase Ejection Fraction (EF) yang dimiliki pasien?"
   ]
  },
  {
   "cell_type": "code",
   "execution_count": 65,
   "id": "3b977e1c",
   "metadata": {},
   "outputs": [
    {
     "data": {
      "text/plain": [
       "38.08361204013378"
      ]
     },
     "execution_count": 65,
     "metadata": {},
     "output_type": "execute_result"
    }
   ],
   "source": [
    "df[\"ejection_fraction\"].mean()"
   ]
  },
  {
   "cell_type": "markdown",
   "id": "ee6551e6",
   "metadata": {},
   "source": [
    "**Rata-rata** Presentase Ejection Fraction (EF) yang dimiliki pasien yaitu **38%**"
   ]
  },
  {
   "cell_type": "markdown",
   "id": "6422e0a4",
   "metadata": {},
   "source": [
    "### 7.2 Apakah presentase Ejection Fraction (EF) yang rendah dan tinggi berpengaruh terhadap Death Event?"
   ]
  },
  {
   "cell_type": "markdown",
   "id": "00e6fc7f",
   "metadata": {},
   "source": [
    "Melihat data pasien dengan tingkat **Ejection Fraction (EF)** **terendah**"
   ]
  },
  {
   "cell_type": "code",
   "execution_count": 66,
   "id": "d538afad",
   "metadata": {
    "scrolled": true
   },
   "outputs": [
    {
     "data": {
      "text/html": [
       "<div>\n",
       "<style scoped>\n",
       "    .dataframe tbody tr th:only-of-type {\n",
       "        vertical-align: middle;\n",
       "    }\n",
       "\n",
       "    .dataframe tbody tr th {\n",
       "        vertical-align: top;\n",
       "    }\n",
       "\n",
       "    .dataframe thead th {\n",
       "        text-align: right;\n",
       "    }\n",
       "</style>\n",
       "<table border=\"1\" class=\"dataframe\">\n",
       "  <thead>\n",
       "    <tr style=\"text-align: right;\">\n",
       "      <th></th>\n",
       "      <th>age</th>\n",
       "      <th>anaemia</th>\n",
       "      <th>creatinine_phosphokinase</th>\n",
       "      <th>diabetes</th>\n",
       "      <th>ejection_fraction</th>\n",
       "      <th>high_blood_pressure</th>\n",
       "      <th>platelets</th>\n",
       "      <th>serum_creatinine</th>\n",
       "      <th>serum_sodium</th>\n",
       "      <th>sex</th>\n",
       "      <th>smoking</th>\n",
       "      <th>time</th>\n",
       "      <th>death_event</th>\n",
       "    </tr>\n",
       "  </thead>\n",
       "  <tbody>\n",
       "    <tr>\n",
       "      <th>17</th>\n",
       "      <td>45.0</td>\n",
       "      <td>no</td>\n",
       "      <td>582</td>\n",
       "      <td>no</td>\n",
       "      <td>14</td>\n",
       "      <td>no</td>\n",
       "      <td>166000.0</td>\n",
       "      <td>0.8</td>\n",
       "      <td>127</td>\n",
       "      <td>male</td>\n",
       "      <td>no</td>\n",
       "      <td>14</td>\n",
       "      <td>yes</td>\n",
       "    </tr>\n",
       "  </tbody>\n",
       "</table>\n",
       "</div>"
      ],
      "text/plain": [
       "     age anaemia  creatinine_phosphokinase diabetes  ejection_fraction  \\\n",
       "17  45.0      no                       582       no                 14   \n",
       "\n",
       "   high_blood_pressure  platelets  serum_creatinine  serum_sodium   sex  \\\n",
       "17                  no   166000.0               0.8           127  male   \n",
       "\n",
       "   smoking  time death_event  \n",
       "17      no    14         yes  "
      ]
     },
     "execution_count": 66,
     "metadata": {},
     "output_type": "execute_result"
    }
   ],
   "source": [
    "min_ef = np.amin(df[\"ejection_fraction\"])\n",
    "\n",
    "df_eda[df_eda[\"ejection_fraction\"] == min_ef]"
   ]
  },
  {
   "cell_type": "markdown",
   "id": "71931fb0",
   "metadata": {},
   "source": [
    "Melihat data pasien dengan tingkat **Ejection Fraction (EF)** **tertinggi**"
   ]
  },
  {
   "cell_type": "code",
   "execution_count": 67,
   "id": "860aebb5",
   "metadata": {},
   "outputs": [
    {
     "data": {
      "text/html": [
       "<div>\n",
       "<style scoped>\n",
       "    .dataframe tbody tr th:only-of-type {\n",
       "        vertical-align: middle;\n",
       "    }\n",
       "\n",
       "    .dataframe tbody tr th {\n",
       "        vertical-align: top;\n",
       "    }\n",
       "\n",
       "    .dataframe thead th {\n",
       "        text-align: right;\n",
       "    }\n",
       "</style>\n",
       "<table border=\"1\" class=\"dataframe\">\n",
       "  <thead>\n",
       "    <tr style=\"text-align: right;\">\n",
       "      <th></th>\n",
       "      <th>age</th>\n",
       "      <th>anaemia</th>\n",
       "      <th>creatinine_phosphokinase</th>\n",
       "      <th>diabetes</th>\n",
       "      <th>ejection_fraction</th>\n",
       "      <th>high_blood_pressure</th>\n",
       "      <th>platelets</th>\n",
       "      <th>serum_creatinine</th>\n",
       "      <th>serum_sodium</th>\n",
       "      <th>sex</th>\n",
       "      <th>smoking</th>\n",
       "      <th>time</th>\n",
       "      <th>death_event</th>\n",
       "    </tr>\n",
       "  </thead>\n",
       "  <tbody>\n",
       "    <tr>\n",
       "      <th>64</th>\n",
       "      <td>45.0</td>\n",
       "      <td>no</td>\n",
       "      <td>582</td>\n",
       "      <td>no</td>\n",
       "      <td>80</td>\n",
       "      <td>no</td>\n",
       "      <td>263358.03</td>\n",
       "      <td>1.18</td>\n",
       "      <td>137</td>\n",
       "      <td>female</td>\n",
       "      <td>no</td>\n",
       "      <td>63</td>\n",
       "      <td>no</td>\n",
       "    </tr>\n",
       "  </tbody>\n",
       "</table>\n",
       "</div>"
      ],
      "text/plain": [
       "     age anaemia  creatinine_phosphokinase diabetes  ejection_fraction  \\\n",
       "64  45.0      no                       582       no                 80   \n",
       "\n",
       "   high_blood_pressure  platelets  serum_creatinine  serum_sodium     sex  \\\n",
       "64                  no  263358.03              1.18           137  female   \n",
       "\n",
       "   smoking  time death_event  \n",
       "64      no    63          no  "
      ]
     },
     "execution_count": 67,
     "metadata": {},
     "output_type": "execute_result"
    }
   ],
   "source": [
    "max_ef = np.amax(df[\"ejection_fraction\"].values)\n",
    "\n",
    "df_eda[df_eda[\"ejection_fraction\"] == max_ef]"
   ]
  },
  {
   "cell_type": "markdown",
   "id": "c130a844",
   "metadata": {},
   "source": [
    "- Ejection Fraction (EF) Normalnya memiliki nilai berkisar antara **50-70%**. \n",
    "- Tabel pertama merupakan data pasien dengan **Tingkat EF Terendah (14%)** dan **meninggal**.\n",
    "- Namun, Pada Tabel kedua merupakan data pasien dengan **Tingkat EF Tertinggi (80%)** dan **tidak meninggal**\n",
    "- Jadi bisa ada **korelasi negatif** antara **Ejection Fraction (EF)** dan **DEATH_EVENT**."
   ]
  },
  {
   "cell_type": "markdown",
   "id": "9b9642d5",
   "metadata": {},
   "source": [
    "### 7.3 Analisis Ejection Fraction (EF) dengan Death Event"
   ]
  },
  {
   "cell_type": "code",
   "execution_count": 68,
   "id": "55ca5790",
   "metadata": {},
   "outputs": [],
   "source": [
    "# for subplots\n",
    "def subplts(r=1, c=1, fs=(10, 5)):\n",
    "    return plt.subplots(r, c, figsize=fs)\n",
    "\n",
    "# histogram with hue\n",
    "def plot_hist_hue(x, hu, ax, d=df, multi=\"stack\", kde=True, log=False):\n",
    "    sns.histplot(data=d, x=x, ax=ax, hue=hu, kde=kde, multiple=multi, log_scale=log)\n",
    "    \n",
    "# boxplot with one categorical\n",
    "def plot_boxcat(x, y, ax, d=df):\n",
    "    sns.boxplot(data=d, x=x, y=y, ax=ax)"
   ]
  },
  {
   "cell_type": "code",
   "execution_count": 69,
   "id": "39b31280",
   "metadata": {},
   "outputs": [
    {
     "data": {
      "image/png": "[encoded data removed]",
      "text/plain": [
       "<Figure size 720x360 with 1 Axes>"
      ]
     },
     "metadata": {
      "needs_background": "light"
     },
     "output_type": "display_data"
    }
   ],
   "source": [
    "fig, ax = subplts()\n",
    "\n",
    "plot_hist_hue(\"ejection_fraction\", \"DEATH_EVENT\", ax)\n",
    "ax.set_title('Death Event berdasarkan Ejection Fraction')\n",
    "\n",
    "plt.show()"
   ]
  },
  {
   "cell_type": "markdown",
   "id": "7652fd93",
   "metadata": {},
   "source": [
    "- Berdasarkan visualisasi data diatas, \n",
    "- Persentase Ejection Fraction (EF) 20 keatas tidak meninggal,\n",
    "- Sedangkan Persentase Ejection Fraction (EF) 20 kebawah meninggal\n",
    "\n",
    "- Ini menunjukkan bahwa rata-rata orang dengan Persentase Ejection Fraction (EF) lebih tinggi bertahan lebih lama daripada orang dengan Persentase Ejection Fraction (EF) lebih rendah."
   ]
  },
  {
   "cell_type": "markdown",
   "id": "29ac1cf1",
   "metadata": {},
   "source": [
    "### 8. Analisis Mengenai Platelets (Trombosit)"
   ]
  },
  {
   "cell_type": "markdown",
   "id": "d60442ae",
   "metadata": {},
   "source": [
    "### 8.1 Bagaimana Rata-rata Kadar Platelets yang dimiliki pasien?"
   ]
  },
  {
   "cell_type": "code",
   "execution_count": 70,
   "id": "fa2d1389",
   "metadata": {},
   "outputs": [
    {
     "data": {
      "text/plain": [
       "263358.02926421404"
      ]
     },
     "execution_count": 70,
     "metadata": {},
     "output_type": "execute_result"
    }
   ],
   "source": [
    "df[\"platelets\"].mean()"
   ]
  },
  {
   "cell_type": "markdown",
   "id": "faff4f08",
   "metadata": {},
   "source": [
    "**Rata-rata** Kadar Platelets (Trombosit) yang dimiliki pasien yaitu **263.358 kiloplatelets/mL**"
   ]
  },
  {
   "cell_type": "markdown",
   "id": "85bc03a6",
   "metadata": {},
   "source": [
    "### 8.2 Apakah kadar platelets yang kurang dari batas normal berpengaruh terhadap Death Event?"
   ]
  },
  {
   "cell_type": "markdown",
   "id": "19aa903e",
   "metadata": {},
   "source": [
    "Melihat Data Pasien dengan **Kadar Platelets** (Trombosit) **Terendah**"
   ]
  },
  {
   "cell_type": "code",
   "execution_count": 71,
   "id": "5719db67",
   "metadata": {},
   "outputs": [
    {
     "data": {
      "text/html": [
       "<div>\n",
       "<style scoped>\n",
       "    .dataframe tbody tr th:only-of-type {\n",
       "        vertical-align: middle;\n",
       "    }\n",
       "\n",
       "    .dataframe tbody tr th {\n",
       "        vertical-align: top;\n",
       "    }\n",
       "\n",
       "    .dataframe thead th {\n",
       "        text-align: right;\n",
       "    }\n",
       "</style>\n",
       "<table border=\"1\" class=\"dataframe\">\n",
       "  <thead>\n",
       "    <tr style=\"text-align: right;\">\n",
       "      <th></th>\n",
       "      <th>age</th>\n",
       "      <th>anaemia</th>\n",
       "      <th>creatinine_phosphokinase</th>\n",
       "      <th>diabetes</th>\n",
       "      <th>ejection_fraction</th>\n",
       "      <th>high_blood_pressure</th>\n",
       "      <th>platelets</th>\n",
       "      <th>serum_creatinine</th>\n",
       "      <th>serum_sodium</th>\n",
       "      <th>sex</th>\n",
       "      <th>smoking</th>\n",
       "      <th>time</th>\n",
       "      <th>death_event</th>\n",
       "    </tr>\n",
       "  </thead>\n",
       "  <tbody>\n",
       "    <tr>\n",
       "      <th>277</th>\n",
       "      <td>70.0</td>\n",
       "      <td>no</td>\n",
       "      <td>582</td>\n",
       "      <td>yes</td>\n",
       "      <td>38</td>\n",
       "      <td>no</td>\n",
       "      <td>25100.0</td>\n",
       "      <td>1.1</td>\n",
       "      <td>140</td>\n",
       "      <td>male</td>\n",
       "      <td>no</td>\n",
       "      <td>246</td>\n",
       "      <td>no</td>\n",
       "    </tr>\n",
       "  </tbody>\n",
       "</table>\n",
       "</div>"
      ],
      "text/plain": [
       "      age anaemia  creatinine_phosphokinase diabetes  ejection_fraction  \\\n",
       "277  70.0      no                       582      yes                 38   \n",
       "\n",
       "    high_blood_pressure  platelets  serum_creatinine  serum_sodium   sex  \\\n",
       "277                  no    25100.0               1.1           140  male   \n",
       "\n",
       "    smoking  time death_event  \n",
       "277      no   246          no  "
      ]
     },
     "execution_count": 71,
     "metadata": {},
     "output_type": "execute_result"
    }
   ],
   "source": [
    "min_platelet = np.amin(df[\"platelets\"])\n",
    "\n",
    "df_eda[df_eda[\"platelets\"] == min_platelet]"
   ]
  },
  {
   "cell_type": "markdown",
   "id": "36c7e6d2",
   "metadata": {},
   "source": [
    "- **Kadar Platelets** (trombosit) **normal** dalam darah adalah sekitar **150.000–450.000/mL**.\n",
    "- Pada data diatas, **pasien tidak meninggal** meskipun kadar Platelets-nya **kurang dari batas normal**\n",
    "- Sehingga, bisa ada **korelasi negatif** antara Platelets (Trombosit) dan DEATH_EVENT."
   ]
  },
  {
   "cell_type": "markdown",
   "id": "cf9eeb12",
   "metadata": {},
   "source": [
    "### 9. Analisis Serum Creatinine"
   ]
  },
  {
   "cell_type": "markdown",
   "id": "36bafb5a",
   "metadata": {},
   "source": [
    "### 9.1 Bagaimana Rata-rata level serum creatinine pada pasien?"
   ]
  },
  {
   "cell_type": "code",
   "execution_count": 72,
   "id": "10cc060d",
   "metadata": {},
   "outputs": [
    {
     "data": {
      "text/plain": [
       "1.3938795986622072"
      ]
     },
     "execution_count": 72,
     "metadata": {},
     "output_type": "execute_result"
    }
   ],
   "source": [
    "df[\"serum_creatinine\"].mean()"
   ]
  },
  {
   "cell_type": "markdown",
   "id": "ca174222",
   "metadata": {},
   "source": [
    "**Rata-rata** level serum creatinine pada pasien yaitu **1.4 mg/dL**"
   ]
  },
  {
   "cell_type": "markdown",
   "id": "f44a16f9",
   "metadata": {},
   "source": [
    "### 9.2 Apakah level serum creatinine yang lebih dari batas normal berpengaruh terhadap Death Event?"
   ]
  },
  {
   "cell_type": "code",
   "execution_count": 73,
   "id": "2992a305",
   "metadata": {},
   "outputs": [
    {
     "data": {
      "text/html": [
       "<div>\n",
       "<style scoped>\n",
       "    .dataframe tbody tr th:only-of-type {\n",
       "        vertical-align: middle;\n",
       "    }\n",
       "\n",
       "    .dataframe tbody tr th {\n",
       "        vertical-align: top;\n",
       "    }\n",
       "\n",
       "    .dataframe thead th {\n",
       "        text-align: right;\n",
       "    }\n",
       "</style>\n",
       "<table border=\"1\" class=\"dataframe\">\n",
       "  <thead>\n",
       "    <tr style=\"text-align: right;\">\n",
       "      <th></th>\n",
       "      <th>age</th>\n",
       "      <th>anaemia</th>\n",
       "      <th>creatinine_phosphokinase</th>\n",
       "      <th>diabetes</th>\n",
       "      <th>ejection_fraction</th>\n",
       "      <th>high_blood_pressure</th>\n",
       "      <th>platelets</th>\n",
       "      <th>serum_creatinine</th>\n",
       "      <th>serum_sodium</th>\n",
       "      <th>sex</th>\n",
       "      <th>smoking</th>\n",
       "      <th>time</th>\n",
       "      <th>death_event</th>\n",
       "    </tr>\n",
       "  </thead>\n",
       "  <tbody>\n",
       "    <tr>\n",
       "      <th>9</th>\n",
       "      <td>80.0</td>\n",
       "      <td>yes</td>\n",
       "      <td>123</td>\n",
       "      <td>no</td>\n",
       "      <td>35</td>\n",
       "      <td>yes</td>\n",
       "      <td>388000.0</td>\n",
       "      <td>9.4</td>\n",
       "      <td>133</td>\n",
       "      <td>male</td>\n",
       "      <td>yes</td>\n",
       "      <td>10</td>\n",
       "      <td>yes</td>\n",
       "    </tr>\n",
       "  </tbody>\n",
       "</table>\n",
       "</div>"
      ],
      "text/plain": [
       "    age anaemia  creatinine_phosphokinase diabetes  ejection_fraction  \\\n",
       "9  80.0     yes                       123       no                 35   \n",
       "\n",
       "  high_blood_pressure  platelets  serum_creatinine  serum_sodium   sex  \\\n",
       "9                 yes   388000.0               9.4           133  male   \n",
       "\n",
       "  smoking  time death_event  \n",
       "9     yes    10         yes  "
      ]
     },
     "execution_count": 73,
     "metadata": {},
     "output_type": "execute_result"
    }
   ],
   "source": [
    "max_sc = np.amax(df[\"serum_creatinine\"].values)\n",
    "\n",
    "df_eda[df_eda[\"serum_creatinine\"] == max_sc]"
   ]
  },
  {
   "cell_type": "markdown",
   "id": "78874301",
   "metadata": {},
   "source": [
    "- Nilai normal serum creatinine berkisar **0,6-1,2 mg/dL pada pria**, dan **0,5-1,1 mg/dL pada wanita**.\n",
    "- Pada tabel diatas, **level serum creatinine** pada pasien melebih level normal **(9,4 mg/dL)** dan **meninggal**.\n",
    "- Jadi, **level serum creatinine** yang **lebih** dari batas normal **berpengaruh** terhadap Death Event."
   ]
  },
  {
   "cell_type": "markdown",
   "id": "c3d09add",
   "metadata": {},
   "source": [
    "### 10. Analisis Mengenai Serum Sodium"
   ]
  },
  {
   "cell_type": "markdown",
   "id": "11988c8d",
   "metadata": {},
   "source": [
    "### 10.1 Bagaimana Rata-rata level serum sodium pada pasien?"
   ]
  },
  {
   "cell_type": "code",
   "execution_count": 74,
   "id": "1c4baf54",
   "metadata": {},
   "outputs": [
    {
     "data": {
      "text/plain": [
       "136.62541806020067"
      ]
     },
     "execution_count": 74,
     "metadata": {},
     "output_type": "execute_result"
    }
   ],
   "source": [
    "df[\"serum_sodium\"].mean()"
   ]
  },
  {
   "cell_type": "markdown",
   "id": "6ce575a4",
   "metadata": {},
   "source": [
    "**Rata-rata** level serum sodium pada pasien yaitu **137 mEq/L**"
   ]
  },
  {
   "cell_type": "markdown",
   "id": "e5614c25",
   "metadata": {},
   "source": [
    "### 10.2 Apakah level serum sodium yang lebih atau kurang dari batas normal berpengaruh terhadap Death Event?"
   ]
  },
  {
   "cell_type": "markdown",
   "id": "665a5326",
   "metadata": {},
   "source": [
    "**Menampilkan data pasien dengan level Serum Sodium Tertinggi**"
   ]
  },
  {
   "cell_type": "code",
   "execution_count": 75,
   "id": "7e9a845d",
   "metadata": {},
   "outputs": [
    {
     "data": {
      "text/html": [
       "<div>\n",
       "<style scoped>\n",
       "    .dataframe tbody tr th:only-of-type {\n",
       "        vertical-align: middle;\n",
       "    }\n",
       "\n",
       "    .dataframe tbody tr th {\n",
       "        vertical-align: top;\n",
       "    }\n",
       "\n",
       "    .dataframe thead th {\n",
       "        text-align: right;\n",
       "    }\n",
       "</style>\n",
       "<table border=\"1\" class=\"dataframe\">\n",
       "  <thead>\n",
       "    <tr style=\"text-align: right;\">\n",
       "      <th></th>\n",
       "      <th>age</th>\n",
       "      <th>anaemia</th>\n",
       "      <th>creatinine_phosphokinase</th>\n",
       "      <th>diabetes</th>\n",
       "      <th>ejection_fraction</th>\n",
       "      <th>high_blood_pressure</th>\n",
       "      <th>platelets</th>\n",
       "      <th>serum_creatinine</th>\n",
       "      <th>serum_sodium</th>\n",
       "      <th>sex</th>\n",
       "      <th>smoking</th>\n",
       "      <th>time</th>\n",
       "      <th>death_event</th>\n",
       "    </tr>\n",
       "  </thead>\n",
       "  <tbody>\n",
       "    <tr>\n",
       "      <th>236</th>\n",
       "      <td>75.0</td>\n",
       "      <td>no</td>\n",
       "      <td>119</td>\n",
       "      <td>no</td>\n",
       "      <td>50</td>\n",
       "      <td>yes</td>\n",
       "      <td>248000.0</td>\n",
       "      <td>1.1</td>\n",
       "      <td>148</td>\n",
       "      <td>male</td>\n",
       "      <td>no</td>\n",
       "      <td>209</td>\n",
       "      <td>no</td>\n",
       "    </tr>\n",
       "  </tbody>\n",
       "</table>\n",
       "</div>"
      ],
      "text/plain": [
       "      age anaemia  creatinine_phosphokinase diabetes  ejection_fraction  \\\n",
       "236  75.0      no                       119       no                 50   \n",
       "\n",
       "    high_blood_pressure  platelets  serum_creatinine  serum_sodium   sex  \\\n",
       "236                 yes   248000.0               1.1           148  male   \n",
       "\n",
       "    smoking  time death_event  \n",
       "236      no   209          no  "
      ]
     },
     "execution_count": 75,
     "metadata": {},
     "output_type": "execute_result"
    }
   ],
   "source": [
    "max_sd = np.amax(df[\"serum_sodium\"].values)\n",
    "\n",
    "df_eda[df_eda[\"serum_sodium\"] == max_sd]"
   ]
  },
  {
   "cell_type": "markdown",
   "id": "828389cc",
   "metadata": {},
   "source": [
    "**Menampilkan data pasien dengan level Serum Sodium Terendah**"
   ]
  },
  {
   "cell_type": "code",
   "execution_count": 76,
   "id": "c12178b1",
   "metadata": {},
   "outputs": [
    {
     "data": {
      "text/html": [
       "<div>\n",
       "<style scoped>\n",
       "    .dataframe tbody tr th:only-of-type {\n",
       "        vertical-align: middle;\n",
       "    }\n",
       "\n",
       "    .dataframe tbody tr th {\n",
       "        vertical-align: top;\n",
       "    }\n",
       "\n",
       "    .dataframe thead th {\n",
       "        text-align: right;\n",
       "    }\n",
       "</style>\n",
       "<table border=\"1\" class=\"dataframe\">\n",
       "  <thead>\n",
       "    <tr style=\"text-align: right;\">\n",
       "      <th></th>\n",
       "      <th>age</th>\n",
       "      <th>anaemia</th>\n",
       "      <th>creatinine_phosphokinase</th>\n",
       "      <th>diabetes</th>\n",
       "      <th>ejection_fraction</th>\n",
       "      <th>high_blood_pressure</th>\n",
       "      <th>platelets</th>\n",
       "      <th>serum_creatinine</th>\n",
       "      <th>serum_sodium</th>\n",
       "      <th>sex</th>\n",
       "      <th>smoking</th>\n",
       "      <th>time</th>\n",
       "      <th>death_event</th>\n",
       "    </tr>\n",
       "  </thead>\n",
       "  <tbody>\n",
       "    <tr>\n",
       "      <th>199</th>\n",
       "      <td>60.0</td>\n",
       "      <td>no</td>\n",
       "      <td>1211</td>\n",
       "      <td>yes</td>\n",
       "      <td>35</td>\n",
       "      <td>no</td>\n",
       "      <td>263358.03</td>\n",
       "      <td>1.8</td>\n",
       "      <td>113</td>\n",
       "      <td>male</td>\n",
       "      <td>yes</td>\n",
       "      <td>186</td>\n",
       "      <td>no</td>\n",
       "    </tr>\n",
       "  </tbody>\n",
       "</table>\n",
       "</div>"
      ],
      "text/plain": [
       "      age anaemia  creatinine_phosphokinase diabetes  ejection_fraction  \\\n",
       "199  60.0      no                      1211      yes                 35   \n",
       "\n",
       "    high_blood_pressure  platelets  serum_creatinine  serum_sodium   sex  \\\n",
       "199                  no  263358.03               1.8           113  male   \n",
       "\n",
       "    smoking  time death_event  \n",
       "199     yes   186          no  "
      ]
     },
     "execution_count": 76,
     "metadata": {},
     "output_type": "execute_result"
    }
   ],
   "source": [
    "min_sd = np.amin(df[\"serum_sodium\"])\n",
    "\n",
    "df_eda[df_eda[\"serum_sodium\"] == min_sd]"
   ]
  },
  {
   "cell_type": "markdown",
   "id": "e4b05d2a",
   "metadata": {},
   "source": [
    "- Rata-rata level serum sodium pada pasien berkisar antara **135-145 milliequivalents per liter (mEq/L)**.\n",
    "- Pada tabel diatas, level serum sodium pada pasien yang **melebihi level normal (148 mEq/L)** tidak meninggal.\n",
    "- Begitu juga dengan level serum sodium pada pasien yang **kurang dari level normal (113 mEq/L)** tidak meninggal.\n",
    "- Jadi, level serum sodium yang lebih dari batas normal ataupun kurang dari batas normal **tidak terlalu berpengaruh** pada Death Event."
   ]
  },
  {
   "cell_type": "markdown",
   "id": "9085925f",
   "metadata": {},
   "source": [
    "### 11. Analisis Smoking"
   ]
  },
  {
   "cell_type": "markdown",
   "id": "7442627f",
   "metadata": {},
   "source": [
    "### 11.1 Ada berapa persen pasien yang merokok?"
   ]
  },
  {
   "cell_type": "code",
   "execution_count": 77,
   "id": "dc5aaf55",
   "metadata": {},
   "outputs": [],
   "source": [
    "smoking = df_eda[\"smoking\"].value_counts(normalize=True)*100"
   ]
  },
  {
   "cell_type": "code",
   "execution_count": 78,
   "id": "073ecb21",
   "metadata": {},
   "outputs": [
    {
     "data": {
      "text/plain": [
       "no     67.892977\n",
       "yes    32.107023\n",
       "Name: smoking, dtype: float64"
      ]
     },
     "execution_count": 78,
     "metadata": {},
     "output_type": "execute_result"
    }
   ],
   "source": [
    "smoking"
   ]
  },
  {
   "cell_type": "code",
   "execution_count": 79,
   "id": "82c51136",
   "metadata": {},
   "outputs": [
    {
     "data": {
      "image/png": "[encoded data removed]",
      "text/plain": [
       "<Figure size 360x288 with 1 Axes>"
      ]
     },
     "metadata": {
      "needs_background": "light"
     },
     "output_type": "display_data"
    }
   ],
   "source": [
    "smoking.plot(kind='bar', figsize=(5,4), color=['lightsalmon','chocolate'])\n",
    "\n",
    "plt.title('Persentase Pasien yang merokok (Smoking)')\n",
    "plt.xlabel('Smoking')\n",
    "plt.ylabel('Persentase')\n",
    "\n",
    "plt.show()"
   ]
  },
  {
   "cell_type": "markdown",
   "id": "9cb974e5",
   "metadata": {},
   "source": [
    "**Interpretasi:**\n",
    "- Terdapat 67,9% pasien yang tidak merokok\n",
    "- Terdapat 32,1% pasien yang merokok\n",
    "- Presentase pasien yang tidak merokok lebih banyak dibandingkan pasien yang merokok"
   ]
  },
  {
   "cell_type": "markdown",
   "id": "7ec4432e",
   "metadata": {},
   "source": [
    "### 11.2 Apakah Merokok berpengaruh terhadap Death Event?"
   ]
  },
  {
   "cell_type": "markdown",
   "id": "61535d13",
   "metadata": {},
   "source": [
    "**Menampilkan Data Pasien Yang Merokok**"
   ]
  },
  {
   "cell_type": "code",
   "execution_count": 80,
   "id": "6c682b30",
   "metadata": {
    "scrolled": false
   },
   "outputs": [
    {
     "data": {
      "text/html": [
       "<div>\n",
       "<style scoped>\n",
       "    .dataframe tbody tr th:only-of-type {\n",
       "        vertical-align: middle;\n",
       "    }\n",
       "\n",
       "    .dataframe tbody tr th {\n",
       "        vertical-align: top;\n",
       "    }\n",
       "\n",
       "    .dataframe thead th {\n",
       "        text-align: right;\n",
       "    }\n",
       "</style>\n",
       "<table border=\"1\" class=\"dataframe\">\n",
       "  <thead>\n",
       "    <tr style=\"text-align: right;\">\n",
       "      <th></th>\n",
       "      <th>age</th>\n",
       "      <th>anaemia</th>\n",
       "      <th>creatinine_phosphokinase</th>\n",
       "      <th>diabetes</th>\n",
       "      <th>ejection_fraction</th>\n",
       "      <th>high_blood_pressure</th>\n",
       "      <th>platelets</th>\n",
       "      <th>serum_creatinine</th>\n",
       "      <th>serum_sodium</th>\n",
       "      <th>sex</th>\n",
       "      <th>smoking</th>\n",
       "      <th>time</th>\n",
       "      <th>death_event</th>\n",
       "    </tr>\n",
       "  </thead>\n",
       "  <tbody>\n",
       "    <tr>\n",
       "      <th>2</th>\n",
       "      <td>65.0</td>\n",
       "      <td>no</td>\n",
       "      <td>146</td>\n",
       "      <td>no</td>\n",
       "      <td>20</td>\n",
       "      <td>no</td>\n",
       "      <td>162000.0</td>\n",
       "      <td>1.3</td>\n",
       "      <td>129</td>\n",
       "      <td>male</td>\n",
       "      <td>yes</td>\n",
       "      <td>7</td>\n",
       "      <td>yes</td>\n",
       "    </tr>\n",
       "  </tbody>\n",
       "</table>\n",
       "</div>"
      ],
      "text/plain": [
       "    age anaemia  creatinine_phosphokinase diabetes  ejection_fraction  \\\n",
       "2  65.0      no                       146       no                 20   \n",
       "\n",
       "  high_blood_pressure  platelets  serum_creatinine  serum_sodium   sex  \\\n",
       "2                  no   162000.0               1.3           129  male   \n",
       "\n",
       "  smoking  time death_event  \n",
       "2     yes     7         yes  "
      ]
     },
     "execution_count": 80,
     "metadata": {},
     "output_type": "execute_result"
    }
   ],
   "source": [
    "df_eda[2:3]"
   ]
  },
  {
   "cell_type": "markdown",
   "id": "226f6a2b",
   "metadata": {},
   "source": [
    "**Menampilkan Data Pasien Yang Juga Merokok**"
   ]
  },
  {
   "cell_type": "code",
   "execution_count": 81,
   "id": "51b1f1a1",
   "metadata": {},
   "outputs": [
    {
     "data": {
      "text/html": [
       "<div>\n",
       "<style scoped>\n",
       "    .dataframe tbody tr th:only-of-type {\n",
       "        vertical-align: middle;\n",
       "    }\n",
       "\n",
       "    .dataframe tbody tr th {\n",
       "        vertical-align: top;\n",
       "    }\n",
       "\n",
       "    .dataframe thead th {\n",
       "        text-align: right;\n",
       "    }\n",
       "</style>\n",
       "<table border=\"1\" class=\"dataframe\">\n",
       "  <thead>\n",
       "    <tr style=\"text-align: right;\">\n",
       "      <th></th>\n",
       "      <th>age</th>\n",
       "      <th>anaemia</th>\n",
       "      <th>creatinine_phosphokinase</th>\n",
       "      <th>diabetes</th>\n",
       "      <th>ejection_fraction</th>\n",
       "      <th>high_blood_pressure</th>\n",
       "      <th>platelets</th>\n",
       "      <th>serum_creatinine</th>\n",
       "      <th>serum_sodium</th>\n",
       "      <th>sex</th>\n",
       "      <th>smoking</th>\n",
       "      <th>time</th>\n",
       "      <th>death_event</th>\n",
       "    </tr>\n",
       "  </thead>\n",
       "  <tbody>\n",
       "    <tr>\n",
       "      <th>298</th>\n",
       "      <td>50.0</td>\n",
       "      <td>no</td>\n",
       "      <td>196</td>\n",
       "      <td>no</td>\n",
       "      <td>45</td>\n",
       "      <td>no</td>\n",
       "      <td>395000.0</td>\n",
       "      <td>1.6</td>\n",
       "      <td>136</td>\n",
       "      <td>male</td>\n",
       "      <td>yes</td>\n",
       "      <td>285</td>\n",
       "      <td>no</td>\n",
       "    </tr>\n",
       "  </tbody>\n",
       "</table>\n",
       "</div>"
      ],
      "text/plain": [
       "      age anaemia  creatinine_phosphokinase diabetes  ejection_fraction  \\\n",
       "298  50.0      no                       196       no                 45   \n",
       "\n",
       "    high_blood_pressure  platelets  serum_creatinine  serum_sodium   sex  \\\n",
       "298                  no   395000.0               1.6           136  male   \n",
       "\n",
       "    smoking  time death_event  \n",
       "298     yes   285          no  "
      ]
     },
     "execution_count": 81,
     "metadata": {},
     "output_type": "execute_result"
    }
   ],
   "source": [
    "df_eda[298:299]"
   ]
  },
  {
   "cell_type": "markdown",
   "id": "63f15fef",
   "metadata": {},
   "source": [
    "- Tabel pertama merupakan data pasien yang **Merokok** dan **meninggal**.\n",
    "- Tapi pada Tabel kedua merupakan data pasien yang **Merokok**, namun **tidak meninggal**.\n",
    "- Sehingga, bisa ada korelasi negatif antara Smoking dan DEATH EVENT."
   ]
  },
  {
   "cell_type": "markdown",
   "id": "91235e22",
   "metadata": {},
   "source": [
    "### 11.3 Bagaimana Persentase Death Event Pada Pasien Yang Merokok & Tidak Merokok?"
   ]
  },
  {
   "cell_type": "code",
   "execution_count": 82,
   "id": "581c9ae5",
   "metadata": {},
   "outputs": [],
   "source": [
    "df7 = df[(df[\"smoking\"] == 0) & (df[\"DEATH_EVENT\"] == 1)]\n",
    "df8 = df[(df[\"smoking\"] == 1) & (df[\"DEATH_EVENT\"] == 1)]\n",
    "smoking_death = pd.concat([df7, df8])"
   ]
  },
  {
   "cell_type": "code",
   "execution_count": 83,
   "id": "a185b4d8",
   "metadata": {},
   "outputs": [
    {
     "data": {
      "image/png": "[encoded data removed]",
      "text/plain": [
       "<Figure size 1080x288 with 1 Axes>"
      ]
     },
     "metadata": {},
     "output_type": "display_data"
    }
   ],
   "source": [
    "fig, ax = plt.subplots(figsize=(15, 4))\n",
    "\n",
    "smoking_death[\"smoking\"].value_counts().plot.pie(autopct=\"%1.1f%%\", ax=ax, shadow=True, explode=[0, 0.1])\n",
    "ax.set_title('Persentase Death Event Pasien Yang Merokok & Tidak Merokok')\n",
    "\n",
    "plt.show()"
   ]
  },
  {
   "cell_type": "markdown",
   "id": "69fec92e",
   "metadata": {},
   "source": [
    "**Interpretasi :**\n",
    "- Keterangan :\n",
    "0 = Tidak Merokok, 1 = Merokok\n",
    "- Terdapat 68,8% pasien meninggal yang tidak merokok \n",
    "- Terdpat 31,2% pasien meninggal yang merokok \n",
    "- Sehingga presentase pasien yang tidak merokok meninggal lebih banyak dibandingkan pasien yang merokok."
   ]
  },
  {
   "cell_type": "markdown",
   "id": "780b5ad2",
   "metadata": {},
   "source": [
    "### 12. Analisis Waktu Follow Up (Time) per pasien"
   ]
  },
  {
   "cell_type": "markdown",
   "id": "448c000d",
   "metadata": {},
   "source": [
    "### 12.1 Max, Min, Mean Waktu Follow Up Pasien?"
   ]
  },
  {
   "cell_type": "code",
   "execution_count": 84,
   "id": "e2e68d30",
   "metadata": {
    "scrolled": true
   },
   "outputs": [
    {
     "data": {
      "text/plain": [
       "285"
      ]
     },
     "execution_count": 84,
     "metadata": {},
     "output_type": "execute_result"
    }
   ],
   "source": [
    "df['time'].max()"
   ]
  },
  {
   "cell_type": "code",
   "execution_count": 85,
   "id": "db935ebd",
   "metadata": {},
   "outputs": [
    {
     "data": {
      "text/plain": [
       "4"
      ]
     },
     "execution_count": 85,
     "metadata": {},
     "output_type": "execute_result"
    }
   ],
   "source": [
    "df['time'].min()"
   ]
  },
  {
   "cell_type": "code",
   "execution_count": 86,
   "id": "4786be82",
   "metadata": {},
   "outputs": [
    {
     "data": {
      "text/plain": [
       "130.2608695652174"
      ]
     },
     "execution_count": 86,
     "metadata": {},
     "output_type": "execute_result"
    }
   ],
   "source": [
    "df['time'].mean()"
   ]
  },
  {
   "cell_type": "markdown",
   "id": "07d0f149",
   "metadata": {},
   "source": [
    "**Interpretasi:**\n",
    "- Waktu Follow Up terlama petugas kepada pasien : 285 Hari\n",
    "- Waktu Follow Up tersingkat petugas kepada pasien : 4 Hari\n",
    "- Rata-rata Waktu Follow Up petugas kepada Pasien : 130 Hari"
   ]
  },
  {
   "cell_type": "markdown",
   "id": "f057e569",
   "metadata": {},
   "source": [
    "### 12. 1 Apakah Waktu Follow Up (Time) berpengaruh pada Death Event?"
   ]
  },
  {
   "cell_type": "markdown",
   "id": "1c94e5fe",
   "metadata": {},
   "source": [
    "Menampilkan **Waktu Follow Up** (Time) Pasien **Tersingkat**"
   ]
  },
  {
   "cell_type": "code",
   "execution_count": 87,
   "id": "e902ee0b",
   "metadata": {},
   "outputs": [
    {
     "data": {
      "text/html": [
       "<div>\n",
       "<style scoped>\n",
       "    .dataframe tbody tr th:only-of-type {\n",
       "        vertical-align: middle;\n",
       "    }\n",
       "\n",
       "    .dataframe tbody tr th {\n",
       "        vertical-align: top;\n",
       "    }\n",
       "\n",
       "    .dataframe thead th {\n",
       "        text-align: right;\n",
       "    }\n",
       "</style>\n",
       "<table border=\"1\" class=\"dataframe\">\n",
       "  <thead>\n",
       "    <tr style=\"text-align: right;\">\n",
       "      <th></th>\n",
       "      <th>age</th>\n",
       "      <th>anaemia</th>\n",
       "      <th>creatinine_phosphokinase</th>\n",
       "      <th>diabetes</th>\n",
       "      <th>ejection_fraction</th>\n",
       "      <th>high_blood_pressure</th>\n",
       "      <th>platelets</th>\n",
       "      <th>serum_creatinine</th>\n",
       "      <th>serum_sodium</th>\n",
       "      <th>sex</th>\n",
       "      <th>smoking</th>\n",
       "      <th>time</th>\n",
       "      <th>death_event</th>\n",
       "    </tr>\n",
       "  </thead>\n",
       "  <tbody>\n",
       "    <tr>\n",
       "      <th>0</th>\n",
       "      <td>75.0</td>\n",
       "      <td>no</td>\n",
       "      <td>582</td>\n",
       "      <td>no</td>\n",
       "      <td>20</td>\n",
       "      <td>yes</td>\n",
       "      <td>265000.0</td>\n",
       "      <td>1.9</td>\n",
       "      <td>130</td>\n",
       "      <td>male</td>\n",
       "      <td>no</td>\n",
       "      <td>4</td>\n",
       "      <td>yes</td>\n",
       "    </tr>\n",
       "  </tbody>\n",
       "</table>\n",
       "</div>"
      ],
      "text/plain": [
       "    age anaemia  creatinine_phosphokinase diabetes  ejection_fraction  \\\n",
       "0  75.0      no                       582       no                 20   \n",
       "\n",
       "  high_blood_pressure  platelets  serum_creatinine  serum_sodium   sex  \\\n",
       "0                 yes   265000.0               1.9           130  male   \n",
       "\n",
       "  smoking  time death_event  \n",
       "0      no     4         yes  "
      ]
     },
     "execution_count": 87,
     "metadata": {},
     "output_type": "execute_result"
    }
   ],
   "source": [
    "time_min = np.amin(df[\"time\"])\n",
    "\n",
    "df_eda[df_eda[\"time\"] == time_min]"
   ]
  },
  {
   "cell_type": "markdown",
   "id": "3e31f60e",
   "metadata": {},
   "source": [
    "Menampilkan **Waktu Follow Up** (Time) Pasien **Terlama**"
   ]
  },
  {
   "cell_type": "code",
   "execution_count": 88,
   "id": "712bbd6a",
   "metadata": {},
   "outputs": [
    {
     "data": {
      "text/html": [
       "<div>\n",
       "<style scoped>\n",
       "    .dataframe tbody tr th:only-of-type {\n",
       "        vertical-align: middle;\n",
       "    }\n",
       "\n",
       "    .dataframe tbody tr th {\n",
       "        vertical-align: top;\n",
       "    }\n",
       "\n",
       "    .dataframe thead th {\n",
       "        text-align: right;\n",
       "    }\n",
       "</style>\n",
       "<table border=\"1\" class=\"dataframe\">\n",
       "  <thead>\n",
       "    <tr style=\"text-align: right;\">\n",
       "      <th></th>\n",
       "      <th>age</th>\n",
       "      <th>anaemia</th>\n",
       "      <th>creatinine_phosphokinase</th>\n",
       "      <th>diabetes</th>\n",
       "      <th>ejection_fraction</th>\n",
       "      <th>high_blood_pressure</th>\n",
       "      <th>platelets</th>\n",
       "      <th>serum_creatinine</th>\n",
       "      <th>serum_sodium</th>\n",
       "      <th>sex</th>\n",
       "      <th>smoking</th>\n",
       "      <th>time</th>\n",
       "      <th>death_event</th>\n",
       "    </tr>\n",
       "  </thead>\n",
       "  <tbody>\n",
       "    <tr>\n",
       "      <th>298</th>\n",
       "      <td>50.0</td>\n",
       "      <td>no</td>\n",
       "      <td>196</td>\n",
       "      <td>no</td>\n",
       "      <td>45</td>\n",
       "      <td>no</td>\n",
       "      <td>395000.0</td>\n",
       "      <td>1.6</td>\n",
       "      <td>136</td>\n",
       "      <td>male</td>\n",
       "      <td>yes</td>\n",
       "      <td>285</td>\n",
       "      <td>no</td>\n",
       "    </tr>\n",
       "  </tbody>\n",
       "</table>\n",
       "</div>"
      ],
      "text/plain": [
       "      age anaemia  creatinine_phosphokinase diabetes  ejection_fraction  \\\n",
       "298  50.0      no                       196       no                 45   \n",
       "\n",
       "    high_blood_pressure  platelets  serum_creatinine  serum_sodium   sex  \\\n",
       "298                  no   395000.0               1.6           136  male   \n",
       "\n",
       "    smoking  time death_event  \n",
       "298     yes   285          no  "
      ]
     },
     "execution_count": 88,
     "metadata": {},
     "output_type": "execute_result"
    }
   ],
   "source": [
    "time_max = np.amax(df[\"time\"].values)\n",
    "\n",
    "df_eda[df_eda[\"time\"] == time_max]"
   ]
  },
  {
   "cell_type": "markdown",
   "id": "1422ce40",
   "metadata": {},
   "source": [
    "- Tabel pertama merupakan Waktu Follow Up (Time) Pasien Tersingkat (4) dan **meninggal**.\n",
    "- Tabel kedua merupakan Waktu Follow Up (Time) Pasien Terlama (285), namun **tidak meninggal**."
   ]
  },
  {
   "cell_type": "code",
   "execution_count": 89,
   "id": "66bd443d",
   "metadata": {},
   "outputs": [
    {
     "data": {
      "image/png": "[encoded data removed]",
      "text/plain": [
       "<Figure size 720x360 with 1 Axes>"
      ]
     },
     "metadata": {
      "needs_background": "light"
     },
     "output_type": "display_data"
    }
   ],
   "source": [
    "fig, ax = subplts()\n",
    "\n",
    "plot_hist_hue(\"time\", \"DEATH_EVENT\", ax)\n",
    "ax.set_title('Death Event berdasarkan Time')\n",
    "\n",
    "plt.show()"
   ]
  },
  {
   "cell_type": "markdown",
   "id": "c2aea8a2",
   "metadata": {},
   "source": [
    "**Interpretasi**\n",
    "- Pasien yang **Sedikit melakukan follow up** (time) memiliki rata-rata **kematian yang lebih besar** **daripada** Pasien yang **banyak melakukan follow up (time)**.\n",
    "- Sehingga **Time** dan **Death Event** berkorelasi **negatif**."
   ]
  },
  {
   "cell_type": "markdown",
   "id": "2b03c3c1",
   "metadata": {},
   "source": [
    "### 13. Analisis Death Event"
   ]
  },
  {
   "cell_type": "markdown",
   "id": "bfab4d90",
   "metadata": {},
   "source": [
    "### 13.1 Bagaimana dengan Presentase Death Event Pasien?"
   ]
  },
  {
   "cell_type": "code",
   "execution_count": 90,
   "id": "63fd451d",
   "metadata": {},
   "outputs": [],
   "source": [
    "death_event = df_eda[\"death_event\"].value_counts(normalize=True)*100"
   ]
  },
  {
   "cell_type": "code",
   "execution_count": 91,
   "id": "be87505b",
   "metadata": {},
   "outputs": [
    {
     "data": {
      "text/plain": [
       "no     67.892977\n",
       "yes    32.107023\n",
       "Name: death_event, dtype: float64"
      ]
     },
     "execution_count": 91,
     "metadata": {},
     "output_type": "execute_result"
    }
   ],
   "source": [
    "death_event"
   ]
  },
  {
   "cell_type": "code",
   "execution_count": 92,
   "id": "a1708e6c",
   "metadata": {},
   "outputs": [
    {
     "data": {
      "image/png": "[encoded data removed]",
      "text/plain": [
       "<Figure size 360x288 with 1 Axes>"
      ]
     },
     "metadata": {
      "needs_background": "light"
     },
     "output_type": "display_data"
    }
   ],
   "source": [
    "death_event.plot(kind='bar', figsize=(5,4), color=['palevioletred','steelblue'])\n",
    "\n",
    "plt.title('Death Event Pasien (Yes/No)')\n",
    "plt.xlabel('Death Event')\n",
    "plt.ylabel('Persentase')\n",
    "\n",
    "plt.show()"
   ]
  },
  {
   "cell_type": "markdown",
   "id": "37b2b8e3",
   "metadata": {},
   "source": [
    "**Interpretasi:**\n",
    "- Terdapat 67.9% pasien tidak meninggal\n",
    "- Terdapat 32.1% pasien meninggal \n",
    "- Pasien yang tidak meninggal lebih banyak daripada pasien yang meninggal"
   ]
  },
  {
   "cell_type": "markdown",
   "id": "d32ef48a",
   "metadata": {},
   "source": [
    "### Melihat korelasi dari tiap variabel terhadap variabel Death Event"
   ]
  },
  {
   "cell_type": "code",
   "execution_count": 93,
   "id": "c3568374",
   "metadata": {},
   "outputs": [],
   "source": [
    "df_temp = df.copy()\n",
    "cat_col_list = df_temp.columns[(df_temp.dtypes == 'object')].to_list()\n",
    "for col in cat_col_list:\n",
    "    df_temp[col] = preprocessing.LabelEncoder().fit_transform(df_temp[col])"
   ]
  },
  {
   "cell_type": "code",
   "execution_count": 94,
   "id": "e59c4db6",
   "metadata": {},
   "outputs": [
    {
     "data": {
      "text/plain": [
       "DEATH_EVENT                 1.000000\n",
       "serum_creatinine            0.294278\n",
       "age                         0.253729\n",
       "high_blood_pressure         0.079351\n",
       "anaemia                     0.066270\n",
       "creatinine_phosphokinase    0.062728\n",
       "diabetes                   -0.001943\n",
       "sex                        -0.004316\n",
       "smoking                    -0.012623\n",
       "platelets                  -0.049139\n",
       "serum_sodium               -0.195204\n",
       "ejection_fraction          -0.268603\n",
       "time                       -0.526964\n",
       "Name: DEATH_EVENT, dtype: float64"
      ]
     },
     "execution_count": 94,
     "metadata": {},
     "output_type": "execute_result"
    }
   ],
   "source": [
    "# Melihat korelasi dari tiap variabel terhadap variabel Rain Tomorrow\n",
    "df_temp.corr()['DEATH_EVENT'].sort_values(ascending=False)"
   ]
  },
  {
   "cell_type": "markdown",
   "id": "b9dd5cfb",
   "metadata": {},
   "source": [
    "Berdasarkan korelasi tersebut, \n",
    "- Variabel yang berkorelasi positif adalah :\n",
    "- serum_creatinine, age, high_blood_pressure, anaemia, creatinine_phosphokinase\n",
    "- Variabel yang berkorelasi negatif adalah :\n",
    "- time, ejection_fraction, serum_sodium, platelets, smoking, sex,diabetes"
   ]
  },
  {
   "cell_type": "markdown",
   "id": "1b168d9d",
   "metadata": {},
   "source": [
    "## f. DATA PREPROCESSING\n",
    "Dalam tahap Data Preprocessing, hal yang dilakukan adalah :\n",
    "- Deklarasi Variabel Fitur (X) dan Target (y)\n",
    "- Split Data (80% training dan 20% testing)"
   ]
  },
  {
   "cell_type": "markdown",
   "id": "67373b2d",
   "metadata": {},
   "source": [
    "### Deklarasi Variabel Fitur (X) dan Target (y)"
   ]
  },
  {
   "cell_type": "code",
   "execution_count": 95,
   "id": "fae1d0cc",
   "metadata": {},
   "outputs": [],
   "source": [
    "X = df.drop(['DEATH_EVENT'], axis=1)\n",
    "y = df['DEATH_EVENT']"
   ]
  },
  {
   "cell_type": "markdown",
   "id": "2c2006fd",
   "metadata": {},
   "source": [
    "### Split Data"
   ]
  },
  {
   "cell_type": "code",
   "execution_count": 96,
   "id": "b27fcf4c",
   "metadata": {},
   "outputs": [],
   "source": [
    "# Split Data 80% training dan 20% testing\n",
    "X_train, X_test, y_train, y_test = train_test_split(X, y, test_size = 0.2, random_state = 0)"
   ]
  },
  {
   "cell_type": "markdown",
   "id": "831cf22d",
   "metadata": {},
   "source": [
    "## g. PENDEFINISIAN MODEL\n",
    "Dalam tahap Data Preprocessing, hal yang dilakukan adalah :\n",
    "- Mendefinisikan Model Random Forest"
   ]
  },
  {
   "cell_type": "code",
   "execution_count": 97,
   "id": "71dda2fc",
   "metadata": {},
   "outputs": [],
   "source": [
    "randomforest = RandomForestClassifier()"
   ]
  },
  {
   "cell_type": "markdown",
   "id": "f4436947",
   "metadata": {},
   "source": [
    "## h. PELATIHAN MODEL (Model Training)\n",
    "Dalam Tahap Model Training, kami membuat prediksi data baru (Death Event) menggunakan Model Random Forest"
   ]
  },
  {
   "cell_type": "code",
   "execution_count": 98,
   "id": "f5851061",
   "metadata": {},
   "outputs": [
    {
     "data": {
      "text/plain": [
       "RandomForestClassifier()"
      ]
     },
     "execution_count": 98,
     "metadata": {},
     "output_type": "execute_result"
    }
   ],
   "source": [
    "randomforest.fit(X_train,y_train) "
   ]
  },
  {
   "cell_type": "code",
   "execution_count": 99,
   "id": "c534b54b",
   "metadata": {},
   "outputs": [],
   "source": [
    "randfor_pred = randomforest.predict(X_test)"
   ]
  },
  {
   "cell_type": "code",
   "execution_count": 100,
   "id": "81c92cb5",
   "metadata": {},
   "outputs": [
    {
     "data": {
      "text/html": [
       "<div>\n",
       "<style scoped>\n",
       "    .dataframe tbody tr th:only-of-type {\n",
       "        vertical-align: middle;\n",
       "    }\n",
       "\n",
       "    .dataframe tbody tr th {\n",
       "        vertical-align: top;\n",
       "    }\n",
       "\n",
       "    .dataframe thead th {\n",
       "        text-align: right;\n",
       "    }\n",
       "</style>\n",
       "<table border=\"1\" class=\"dataframe\">\n",
       "  <thead>\n",
       "    <tr style=\"text-align: right;\">\n",
       "      <th></th>\n",
       "      <th>age</th>\n",
       "      <th>anaemia</th>\n",
       "      <th>creatinine_phosphokinase</th>\n",
       "      <th>diabetes</th>\n",
       "      <th>ejection_fraction</th>\n",
       "      <th>high_blood_pressure</th>\n",
       "      <th>platelets</th>\n",
       "      <th>serum_creatinine</th>\n",
       "      <th>serum_sodium</th>\n",
       "      <th>sex</th>\n",
       "      <th>smoking</th>\n",
       "      <th>time</th>\n",
       "      <th>Death Event Predict</th>\n",
       "    </tr>\n",
       "  </thead>\n",
       "  <tbody>\n",
       "    <tr>\n",
       "      <th>206</th>\n",
       "      <td>40.000</td>\n",
       "      <td>1</td>\n",
       "      <td>101</td>\n",
       "      <td>0</td>\n",
       "      <td>40</td>\n",
       "      <td>0</td>\n",
       "      <td>226000.0</td>\n",
       "      <td>0.8</td>\n",
       "      <td>141</td>\n",
       "      <td>0</td>\n",
       "      <td>0</td>\n",
       "      <td>187</td>\n",
       "      <td>0</td>\n",
       "    </tr>\n",
       "    <tr>\n",
       "      <th>188</th>\n",
       "      <td>60.667</td>\n",
       "      <td>1</td>\n",
       "      <td>151</td>\n",
       "      <td>1</td>\n",
       "      <td>40</td>\n",
       "      <td>1</td>\n",
       "      <td>201000.0</td>\n",
       "      <td>1.0</td>\n",
       "      <td>136</td>\n",
       "      <td>0</td>\n",
       "      <td>0</td>\n",
       "      <td>172</td>\n",
       "      <td>0</td>\n",
       "    </tr>\n",
       "    <tr>\n",
       "      <th>12</th>\n",
       "      <td>45.000</td>\n",
       "      <td>1</td>\n",
       "      <td>981</td>\n",
       "      <td>0</td>\n",
       "      <td>30</td>\n",
       "      <td>0</td>\n",
       "      <td>136000.0</td>\n",
       "      <td>1.1</td>\n",
       "      <td>137</td>\n",
       "      <td>1</td>\n",
       "      <td>0</td>\n",
       "      <td>11</td>\n",
       "      <td>1</td>\n",
       "    </tr>\n",
       "    <tr>\n",
       "      <th>219</th>\n",
       "      <td>55.000</td>\n",
       "      <td>0</td>\n",
       "      <td>582</td>\n",
       "      <td>1</td>\n",
       "      <td>35</td>\n",
       "      <td>1</td>\n",
       "      <td>371000.0</td>\n",
       "      <td>0.7</td>\n",
       "      <td>140</td>\n",
       "      <td>0</td>\n",
       "      <td>0</td>\n",
       "      <td>197</td>\n",
       "      <td>0</td>\n",
       "    </tr>\n",
       "  </tbody>\n",
       "</table>\n",
       "</div>"
      ],
      "text/plain": [
       "        age  anaemia  creatinine_phosphokinase  diabetes  ejection_fraction  \\\n",
       "206  40.000        1                       101         0                 40   \n",
       "188  60.667        1                       151         1                 40   \n",
       "12   45.000        1                       981         0                 30   \n",
       "219  55.000        0                       582         1                 35   \n",
       "\n",
       "     high_blood_pressure  platelets  serum_creatinine  serum_sodium  sex  \\\n",
       "206                    0   226000.0               0.8           141    0   \n",
       "188                    1   201000.0               1.0           136    0   \n",
       "12                     0   136000.0               1.1           137    1   \n",
       "219                    1   371000.0               0.7           140    0   \n",
       "\n",
       "     smoking  time  Death Event Predict  \n",
       "206        0   187                    0  \n",
       "188        0   172                    0  \n",
       "12         0    11                    1  \n",
       "219        0   197                    0  "
      ]
     },
     "execution_count": 100,
     "metadata": {},
     "output_type": "execute_result"
    }
   ],
   "source": [
    "#membuat hasil prediksi \n",
    "test = X_test.copy()\n",
    "\n",
    "df_test = pd.DataFrame(test)\n",
    "df_test['Death Event Predict'] = randfor_pred\n",
    "\n",
    "df_test.head(4)"
   ]
  },
  {
   "cell_type": "markdown",
   "id": "30351d7f",
   "metadata": {},
   "source": [
    "## i. EVALUASI MODEL\n",
    "Pada Tahap Evaluasi Model, menampilkan Accuracy Score prediksi dan Mean Squared Error dari Model Random Forest"
   ]
  },
  {
   "cell_type": "code",
   "execution_count": 101,
   "id": "eda4cd66",
   "metadata": {},
   "outputs": [
    {
     "name": "stdout",
     "output_type": "stream",
     "text": [
      "Accuracy Score: 0.8666666666666667\n"
     ]
    }
   ],
   "source": [
    "print(\"Accuracy Score:\", str(randomforest.score(X_test, y_test)))"
   ]
  },
  {
   "cell_type": "code",
   "execution_count": 102,
   "id": "ff9d2dd4",
   "metadata": {
    "scrolled": true
   },
   "outputs": [
    {
     "name": "stdout",
     "output_type": "stream",
     "text": [
      "Mean Squared Error: 0.13333333333333333\n"
     ]
    }
   ],
   "source": [
    "print(\"Mean Squared Error:\", str(mean_squared_error(y_test, randfor_pred)))"
   ]
  },
  {
   "cell_type": "markdown",
   "id": "32b3675a",
   "metadata": {},
   "source": [
    "**Interpretasi**\n",
    "Model Random Forest Classifier (with random_state= 0) memiliki nilai akurasi sebesar 0.85 atau sekitar 85% dan nilai MSE sebesar 0.15 yang berarti model memungkinkan untuk memprediksi 'Death Event' sebesar 85%."
   ]
  },
  {
   "cell_type": "markdown",
   "id": "02a9ce29",
   "metadata": {},
   "source": [
    "## j. MODEL INFERENCE"
   ]
  },
  {
   "cell_type": "code",
   "execution_count": 103,
   "id": "e272251d",
   "metadata": {},
   "outputs": [
    {
     "data": {
      "text/html": [
       "<div>\n",
       "<style scoped>\n",
       "    .dataframe tbody tr th:only-of-type {\n",
       "        vertical-align: middle;\n",
       "    }\n",
       "\n",
       "    .dataframe tbody tr th {\n",
       "        vertical-align: top;\n",
       "    }\n",
       "\n",
       "    .dataframe thead th {\n",
       "        text-align: right;\n",
       "    }\n",
       "</style>\n",
       "<table border=\"1\" class=\"dataframe\">\n",
       "  <thead>\n",
       "    <tr style=\"text-align: right;\">\n",
       "      <th></th>\n",
       "      <th>age</th>\n",
       "      <th>anaemia</th>\n",
       "      <th>creatinine_phosphokinase</th>\n",
       "      <th>diabetes</th>\n",
       "      <th>ejection_fraction</th>\n",
       "      <th>high_blood_pressure</th>\n",
       "      <th>platelets</th>\n",
       "      <th>serum_creatinine</th>\n",
       "      <th>serum_sodium</th>\n",
       "      <th>sex</th>\n",
       "      <th>smoking</th>\n",
       "      <th>time</th>\n",
       "    </tr>\n",
       "  </thead>\n",
       "  <tbody>\n",
       "    <tr>\n",
       "      <th>206</th>\n",
       "      <td>40.000</td>\n",
       "      <td>1</td>\n",
       "      <td>101</td>\n",
       "      <td>0</td>\n",
       "      <td>40</td>\n",
       "      <td>0</td>\n",
       "      <td>226000.00</td>\n",
       "      <td>0.80</td>\n",
       "      <td>141</td>\n",
       "      <td>0</td>\n",
       "      <td>0</td>\n",
       "      <td>187</td>\n",
       "    </tr>\n",
       "    <tr>\n",
       "      <th>188</th>\n",
       "      <td>60.667</td>\n",
       "      <td>1</td>\n",
       "      <td>151</td>\n",
       "      <td>1</td>\n",
       "      <td>40</td>\n",
       "      <td>1</td>\n",
       "      <td>201000.00</td>\n",
       "      <td>1.00</td>\n",
       "      <td>136</td>\n",
       "      <td>0</td>\n",
       "      <td>0</td>\n",
       "      <td>172</td>\n",
       "    </tr>\n",
       "    <tr>\n",
       "      <th>12</th>\n",
       "      <td>45.000</td>\n",
       "      <td>1</td>\n",
       "      <td>981</td>\n",
       "      <td>0</td>\n",
       "      <td>30</td>\n",
       "      <td>0</td>\n",
       "      <td>136000.00</td>\n",
       "      <td>1.10</td>\n",
       "      <td>137</td>\n",
       "      <td>1</td>\n",
       "      <td>0</td>\n",
       "      <td>11</td>\n",
       "    </tr>\n",
       "    <tr>\n",
       "      <th>219</th>\n",
       "      <td>55.000</td>\n",
       "      <td>0</td>\n",
       "      <td>582</td>\n",
       "      <td>1</td>\n",
       "      <td>35</td>\n",
       "      <td>1</td>\n",
       "      <td>371000.00</td>\n",
       "      <td>0.70</td>\n",
       "      <td>140</td>\n",
       "      <td>0</td>\n",
       "      <td>0</td>\n",
       "      <td>197</td>\n",
       "    </tr>\n",
       "    <tr>\n",
       "      <th>237</th>\n",
       "      <td>70.000</td>\n",
       "      <td>0</td>\n",
       "      <td>232</td>\n",
       "      <td>0</td>\n",
       "      <td>30</td>\n",
       "      <td>0</td>\n",
       "      <td>173000.00</td>\n",
       "      <td>1.20</td>\n",
       "      <td>132</td>\n",
       "      <td>1</td>\n",
       "      <td>0</td>\n",
       "      <td>210</td>\n",
       "    </tr>\n",
       "    <tr>\n",
       "      <th>136</th>\n",
       "      <td>65.000</td>\n",
       "      <td>1</td>\n",
       "      <td>59</td>\n",
       "      <td>1</td>\n",
       "      <td>60</td>\n",
       "      <td>0</td>\n",
       "      <td>172000.00</td>\n",
       "      <td>0.90</td>\n",
       "      <td>137</td>\n",
       "      <td>0</td>\n",
       "      <td>0</td>\n",
       "      <td>107</td>\n",
       "    </tr>\n",
       "    <tr>\n",
       "      <th>228</th>\n",
       "      <td>65.000</td>\n",
       "      <td>0</td>\n",
       "      <td>56</td>\n",
       "      <td>0</td>\n",
       "      <td>25</td>\n",
       "      <td>0</td>\n",
       "      <td>237000.00</td>\n",
       "      <td>5.00</td>\n",
       "      <td>130</td>\n",
       "      <td>0</td>\n",
       "      <td>0</td>\n",
       "      <td>207</td>\n",
       "    </tr>\n",
       "    <tr>\n",
       "      <th>205</th>\n",
       "      <td>50.000</td>\n",
       "      <td>1</td>\n",
       "      <td>167</td>\n",
       "      <td>1</td>\n",
       "      <td>45</td>\n",
       "      <td>0</td>\n",
       "      <td>362000.00</td>\n",
       "      <td>1.00</td>\n",
       "      <td>136</td>\n",
       "      <td>0</td>\n",
       "      <td>0</td>\n",
       "      <td>187</td>\n",
       "    </tr>\n",
       "    <tr>\n",
       "      <th>52</th>\n",
       "      <td>60.000</td>\n",
       "      <td>0</td>\n",
       "      <td>3964</td>\n",
       "      <td>1</td>\n",
       "      <td>62</td>\n",
       "      <td>0</td>\n",
       "      <td>263358.03</td>\n",
       "      <td>6.80</td>\n",
       "      <td>146</td>\n",
       "      <td>0</td>\n",
       "      <td>0</td>\n",
       "      <td>43</td>\n",
       "    </tr>\n",
       "    <tr>\n",
       "      <th>108</th>\n",
       "      <td>63.000</td>\n",
       "      <td>0</td>\n",
       "      <td>936</td>\n",
       "      <td>0</td>\n",
       "      <td>38</td>\n",
       "      <td>0</td>\n",
       "      <td>304000.00</td>\n",
       "      <td>1.10</td>\n",
       "      <td>133</td>\n",
       "      <td>1</td>\n",
       "      <td>1</td>\n",
       "      <td>88</td>\n",
       "    </tr>\n",
       "    <tr>\n",
       "      <th>240</th>\n",
       "      <td>70.000</td>\n",
       "      <td>0</td>\n",
       "      <td>81</td>\n",
       "      <td>1</td>\n",
       "      <td>35</td>\n",
       "      <td>1</td>\n",
       "      <td>533000.00</td>\n",
       "      <td>1.30</td>\n",
       "      <td>139</td>\n",
       "      <td>0</td>\n",
       "      <td>0</td>\n",
       "      <td>212</td>\n",
       "    </tr>\n",
       "    <tr>\n",
       "      <th>15</th>\n",
       "      <td>82.000</td>\n",
       "      <td>1</td>\n",
       "      <td>379</td>\n",
       "      <td>0</td>\n",
       "      <td>50</td>\n",
       "      <td>0</td>\n",
       "      <td>47000.00</td>\n",
       "      <td>1.30</td>\n",
       "      <td>136</td>\n",
       "      <td>1</td>\n",
       "      <td>0</td>\n",
       "      <td>13</td>\n",
       "    </tr>\n",
       "    <tr>\n",
       "      <th>184</th>\n",
       "      <td>58.000</td>\n",
       "      <td>1</td>\n",
       "      <td>145</td>\n",
       "      <td>0</td>\n",
       "      <td>25</td>\n",
       "      <td>0</td>\n",
       "      <td>219000.00</td>\n",
       "      <td>1.20</td>\n",
       "      <td>137</td>\n",
       "      <td>1</td>\n",
       "      <td>1</td>\n",
       "      <td>170</td>\n",
       "    </tr>\n",
       "    <tr>\n",
       "      <th>246</th>\n",
       "      <td>55.000</td>\n",
       "      <td>0</td>\n",
       "      <td>2017</td>\n",
       "      <td>0</td>\n",
       "      <td>25</td>\n",
       "      <td>0</td>\n",
       "      <td>314000.00</td>\n",
       "      <td>1.10</td>\n",
       "      <td>138</td>\n",
       "      <td>1</td>\n",
       "      <td>0</td>\n",
       "      <td>214</td>\n",
       "    </tr>\n",
       "    <tr>\n",
       "      <th>22</th>\n",
       "      <td>68.000</td>\n",
       "      <td>1</td>\n",
       "      <td>220</td>\n",
       "      <td>0</td>\n",
       "      <td>35</td>\n",
       "      <td>1</td>\n",
       "      <td>289000.00</td>\n",
       "      <td>0.90</td>\n",
       "      <td>140</td>\n",
       "      <td>1</td>\n",
       "      <td>1</td>\n",
       "      <td>20</td>\n",
       "    </tr>\n",
       "    <tr>\n",
       "      <th>74</th>\n",
       "      <td>69.000</td>\n",
       "      <td>0</td>\n",
       "      <td>582</td>\n",
       "      <td>0</td>\n",
       "      <td>20</td>\n",
       "      <td>0</td>\n",
       "      <td>266000.00</td>\n",
       "      <td>1.20</td>\n",
       "      <td>134</td>\n",
       "      <td>1</td>\n",
       "      <td>1</td>\n",
       "      <td>73</td>\n",
       "    </tr>\n",
       "    <tr>\n",
       "      <th>269</th>\n",
       "      <td>40.000</td>\n",
       "      <td>0</td>\n",
       "      <td>582</td>\n",
       "      <td>1</td>\n",
       "      <td>35</td>\n",
       "      <td>0</td>\n",
       "      <td>222000.00</td>\n",
       "      <td>1.00</td>\n",
       "      <td>132</td>\n",
       "      <td>1</td>\n",
       "      <td>0</td>\n",
       "      <td>244</td>\n",
       "    </tr>\n",
       "    <tr>\n",
       "      <th>90</th>\n",
       "      <td>70.000</td>\n",
       "      <td>0</td>\n",
       "      <td>66</td>\n",
       "      <td>1</td>\n",
       "      <td>45</td>\n",
       "      <td>0</td>\n",
       "      <td>249000.00</td>\n",
       "      <td>0.80</td>\n",
       "      <td>136</td>\n",
       "      <td>1</td>\n",
       "      <td>1</td>\n",
       "      <td>80</td>\n",
       "    </tr>\n",
       "    <tr>\n",
       "      <th>227</th>\n",
       "      <td>55.000</td>\n",
       "      <td>1</td>\n",
       "      <td>2794</td>\n",
       "      <td>0</td>\n",
       "      <td>35</td>\n",
       "      <td>1</td>\n",
       "      <td>141000.00</td>\n",
       "      <td>1.00</td>\n",
       "      <td>140</td>\n",
       "      <td>1</td>\n",
       "      <td>0</td>\n",
       "      <td>206</td>\n",
       "    </tr>\n",
       "    <tr>\n",
       "      <th>255</th>\n",
       "      <td>52.000</td>\n",
       "      <td>1</td>\n",
       "      <td>191</td>\n",
       "      <td>1</td>\n",
       "      <td>30</td>\n",
       "      <td>1</td>\n",
       "      <td>334000.00</td>\n",
       "      <td>1.00</td>\n",
       "      <td>142</td>\n",
       "      <td>1</td>\n",
       "      <td>1</td>\n",
       "      <td>216</td>\n",
       "    </tr>\n",
       "    <tr>\n",
       "      <th>190</th>\n",
       "      <td>80.000</td>\n",
       "      <td>0</td>\n",
       "      <td>582</td>\n",
       "      <td>1</td>\n",
       "      <td>35</td>\n",
       "      <td>0</td>\n",
       "      <td>350000.00</td>\n",
       "      <td>2.10</td>\n",
       "      <td>134</td>\n",
       "      <td>1</td>\n",
       "      <td>0</td>\n",
       "      <td>174</td>\n",
       "    </tr>\n",
       "    <tr>\n",
       "      <th>103</th>\n",
       "      <td>42.000</td>\n",
       "      <td>0</td>\n",
       "      <td>5209</td>\n",
       "      <td>0</td>\n",
       "      <td>30</td>\n",
       "      <td>0</td>\n",
       "      <td>226000.00</td>\n",
       "      <td>1.00</td>\n",
       "      <td>140</td>\n",
       "      <td>1</td>\n",
       "      <td>1</td>\n",
       "      <td>87</td>\n",
       "    </tr>\n",
       "    <tr>\n",
       "      <th>124</th>\n",
       "      <td>60.000</td>\n",
       "      <td>0</td>\n",
       "      <td>582</td>\n",
       "      <td>0</td>\n",
       "      <td>40</td>\n",
       "      <td>0</td>\n",
       "      <td>217000.00</td>\n",
       "      <td>3.70</td>\n",
       "      <td>134</td>\n",
       "      <td>1</td>\n",
       "      <td>0</td>\n",
       "      <td>96</td>\n",
       "    </tr>\n",
       "    <tr>\n",
       "      <th>129</th>\n",
       "      <td>53.000</td>\n",
       "      <td>1</td>\n",
       "      <td>270</td>\n",
       "      <td>1</td>\n",
       "      <td>35</td>\n",
       "      <td>0</td>\n",
       "      <td>227000.00</td>\n",
       "      <td>3.40</td>\n",
       "      <td>145</td>\n",
       "      <td>1</td>\n",
       "      <td>0</td>\n",
       "      <td>105</td>\n",
       "    </tr>\n",
       "    <tr>\n",
       "      <th>220</th>\n",
       "      <td>73.000</td>\n",
       "      <td>0</td>\n",
       "      <td>582</td>\n",
       "      <td>0</td>\n",
       "      <td>20</td>\n",
       "      <td>0</td>\n",
       "      <td>263358.03</td>\n",
       "      <td>1.83</td>\n",
       "      <td>134</td>\n",
       "      <td>1</td>\n",
       "      <td>0</td>\n",
       "      <td>198</td>\n",
       "    </tr>\n",
       "    <tr>\n",
       "      <th>116</th>\n",
       "      <td>60.000</td>\n",
       "      <td>1</td>\n",
       "      <td>96</td>\n",
       "      <td>1</td>\n",
       "      <td>60</td>\n",
       "      <td>1</td>\n",
       "      <td>271000.00</td>\n",
       "      <td>0.70</td>\n",
       "      <td>136</td>\n",
       "      <td>0</td>\n",
       "      <td>0</td>\n",
       "      <td>94</td>\n",
       "    </tr>\n",
       "    <tr>\n",
       "      <th>194</th>\n",
       "      <td>45.000</td>\n",
       "      <td>0</td>\n",
       "      <td>582</td>\n",
       "      <td>0</td>\n",
       "      <td>20</td>\n",
       "      <td>1</td>\n",
       "      <td>126000.00</td>\n",
       "      <td>1.60</td>\n",
       "      <td>135</td>\n",
       "      <td>1</td>\n",
       "      <td>0</td>\n",
       "      <td>180</td>\n",
       "    </tr>\n",
       "    <tr>\n",
       "      <th>285</th>\n",
       "      <td>55.000</td>\n",
       "      <td>1</td>\n",
       "      <td>170</td>\n",
       "      <td>1</td>\n",
       "      <td>40</td>\n",
       "      <td>0</td>\n",
       "      <td>336000.00</td>\n",
       "      <td>1.20</td>\n",
       "      <td>135</td>\n",
       "      <td>1</td>\n",
       "      <td>0</td>\n",
       "      <td>250</td>\n",
       "    </tr>\n",
       "    <tr>\n",
       "      <th>294</th>\n",
       "      <td>62.000</td>\n",
       "      <td>0</td>\n",
       "      <td>61</td>\n",
       "      <td>1</td>\n",
       "      <td>38</td>\n",
       "      <td>1</td>\n",
       "      <td>155000.00</td>\n",
       "      <td>1.10</td>\n",
       "      <td>143</td>\n",
       "      <td>1</td>\n",
       "      <td>1</td>\n",
       "      <td>270</td>\n",
       "    </tr>\n",
       "    <tr>\n",
       "      <th>249</th>\n",
       "      <td>53.000</td>\n",
       "      <td>0</td>\n",
       "      <td>207</td>\n",
       "      <td>1</td>\n",
       "      <td>40</td>\n",
       "      <td>0</td>\n",
       "      <td>223000.00</td>\n",
       "      <td>1.20</td>\n",
       "      <td>130</td>\n",
       "      <td>0</td>\n",
       "      <td>0</td>\n",
       "      <td>214</td>\n",
       "    </tr>\n",
       "    <tr>\n",
       "      <th>92</th>\n",
       "      <td>42.000</td>\n",
       "      <td>0</td>\n",
       "      <td>582</td>\n",
       "      <td>0</td>\n",
       "      <td>60</td>\n",
       "      <td>0</td>\n",
       "      <td>263358.03</td>\n",
       "      <td>1.18</td>\n",
       "      <td>137</td>\n",
       "      <td>0</td>\n",
       "      <td>0</td>\n",
       "      <td>82</td>\n",
       "    </tr>\n",
       "    <tr>\n",
       "      <th>66</th>\n",
       "      <td>42.000</td>\n",
       "      <td>1</td>\n",
       "      <td>250</td>\n",
       "      <td>1</td>\n",
       "      <td>15</td>\n",
       "      <td>0</td>\n",
       "      <td>213000.00</td>\n",
       "      <td>1.30</td>\n",
       "      <td>136</td>\n",
       "      <td>0</td>\n",
       "      <td>0</td>\n",
       "      <td>65</td>\n",
       "    </tr>\n",
       "    <tr>\n",
       "      <th>8</th>\n",
       "      <td>65.000</td>\n",
       "      <td>0</td>\n",
       "      <td>157</td>\n",
       "      <td>0</td>\n",
       "      <td>65</td>\n",
       "      <td>0</td>\n",
       "      <td>263358.03</td>\n",
       "      <td>1.50</td>\n",
       "      <td>138</td>\n",
       "      <td>0</td>\n",
       "      <td>0</td>\n",
       "      <td>10</td>\n",
       "    </tr>\n",
       "    <tr>\n",
       "      <th>122</th>\n",
       "      <td>60.000</td>\n",
       "      <td>0</td>\n",
       "      <td>96</td>\n",
       "      <td>1</td>\n",
       "      <td>38</td>\n",
       "      <td>0</td>\n",
       "      <td>228000.00</td>\n",
       "      <td>0.75</td>\n",
       "      <td>140</td>\n",
       "      <td>0</td>\n",
       "      <td>0</td>\n",
       "      <td>95</td>\n",
       "    </tr>\n",
       "    <tr>\n",
       "      <th>217</th>\n",
       "      <td>54.000</td>\n",
       "      <td>1</td>\n",
       "      <td>427</td>\n",
       "      <td>0</td>\n",
       "      <td>70</td>\n",
       "      <td>1</td>\n",
       "      <td>151000.00</td>\n",
       "      <td>9.00</td>\n",
       "      <td>137</td>\n",
       "      <td>0</td>\n",
       "      <td>0</td>\n",
       "      <td>196</td>\n",
       "    </tr>\n",
       "    <tr>\n",
       "      <th>150</th>\n",
       "      <td>72.000</td>\n",
       "      <td>0</td>\n",
       "      <td>233</td>\n",
       "      <td>0</td>\n",
       "      <td>45</td>\n",
       "      <td>1</td>\n",
       "      <td>235000.00</td>\n",
       "      <td>2.50</td>\n",
       "      <td>135</td>\n",
       "      <td>0</td>\n",
       "      <td>0</td>\n",
       "      <td>115</td>\n",
       "    </tr>\n",
       "    <tr>\n",
       "      <th>176</th>\n",
       "      <td>69.000</td>\n",
       "      <td>0</td>\n",
       "      <td>1419</td>\n",
       "      <td>0</td>\n",
       "      <td>40</td>\n",
       "      <td>0</td>\n",
       "      <td>105000.00</td>\n",
       "      <td>1.00</td>\n",
       "      <td>135</td>\n",
       "      <td>1</td>\n",
       "      <td>1</td>\n",
       "      <td>147</td>\n",
       "    </tr>\n",
       "    <tr>\n",
       "      <th>182</th>\n",
       "      <td>65.000</td>\n",
       "      <td>0</td>\n",
       "      <td>395</td>\n",
       "      <td>1</td>\n",
       "      <td>25</td>\n",
       "      <td>0</td>\n",
       "      <td>265000.00</td>\n",
       "      <td>1.20</td>\n",
       "      <td>136</td>\n",
       "      <td>1</td>\n",
       "      <td>1</td>\n",
       "      <td>154</td>\n",
       "    </tr>\n",
       "    <tr>\n",
       "      <th>298</th>\n",
       "      <td>50.000</td>\n",
       "      <td>0</td>\n",
       "      <td>196</td>\n",
       "      <td>0</td>\n",
       "      <td>45</td>\n",
       "      <td>0</td>\n",
       "      <td>395000.00</td>\n",
       "      <td>1.60</td>\n",
       "      <td>136</td>\n",
       "      <td>1</td>\n",
       "      <td>1</td>\n",
       "      <td>285</td>\n",
       "    </tr>\n",
       "    <tr>\n",
       "      <th>5</th>\n",
       "      <td>90.000</td>\n",
       "      <td>1</td>\n",
       "      <td>47</td>\n",
       "      <td>0</td>\n",
       "      <td>40</td>\n",
       "      <td>1</td>\n",
       "      <td>204000.00</td>\n",
       "      <td>2.10</td>\n",
       "      <td>132</td>\n",
       "      <td>1</td>\n",
       "      <td>1</td>\n",
       "      <td>8</td>\n",
       "    </tr>\n",
       "    <tr>\n",
       "      <th>263</th>\n",
       "      <td>68.000</td>\n",
       "      <td>1</td>\n",
       "      <td>157</td>\n",
       "      <td>1</td>\n",
       "      <td>60</td>\n",
       "      <td>0</td>\n",
       "      <td>208000.00</td>\n",
       "      <td>1.00</td>\n",
       "      <td>140</td>\n",
       "      <td>0</td>\n",
       "      <td>0</td>\n",
       "      <td>237</td>\n",
       "    </tr>\n",
       "    <tr>\n",
       "      <th>89</th>\n",
       "      <td>57.000</td>\n",
       "      <td>1</td>\n",
       "      <td>115</td>\n",
       "      <td>0</td>\n",
       "      <td>25</td>\n",
       "      <td>1</td>\n",
       "      <td>181000.00</td>\n",
       "      <td>1.10</td>\n",
       "      <td>144</td>\n",
       "      <td>1</td>\n",
       "      <td>0</td>\n",
       "      <td>79</td>\n",
       "    </tr>\n",
       "    <tr>\n",
       "      <th>81</th>\n",
       "      <td>67.000</td>\n",
       "      <td>0</td>\n",
       "      <td>582</td>\n",
       "      <td>0</td>\n",
       "      <td>50</td>\n",
       "      <td>0</td>\n",
       "      <td>263358.03</td>\n",
       "      <td>1.18</td>\n",
       "      <td>137</td>\n",
       "      <td>1</td>\n",
       "      <td>1</td>\n",
       "      <td>76</td>\n",
       "    </tr>\n",
       "    <tr>\n",
       "      <th>34</th>\n",
       "      <td>65.000</td>\n",
       "      <td>0</td>\n",
       "      <td>94</td>\n",
       "      <td>1</td>\n",
       "      <td>50</td>\n",
       "      <td>1</td>\n",
       "      <td>188000.00</td>\n",
       "      <td>1.00</td>\n",
       "      <td>140</td>\n",
       "      <td>1</td>\n",
       "      <td>0</td>\n",
       "      <td>29</td>\n",
       "    </tr>\n",
       "    <tr>\n",
       "      <th>55</th>\n",
       "      <td>95.000</td>\n",
       "      <td>1</td>\n",
       "      <td>371</td>\n",
       "      <td>0</td>\n",
       "      <td>30</td>\n",
       "      <td>0</td>\n",
       "      <td>461000.00</td>\n",
       "      <td>2.00</td>\n",
       "      <td>132</td>\n",
       "      <td>1</td>\n",
       "      <td>0</td>\n",
       "      <td>50</td>\n",
       "    </tr>\n",
       "    <tr>\n",
       "      <th>139</th>\n",
       "      <td>50.000</td>\n",
       "      <td>0</td>\n",
       "      <td>1548</td>\n",
       "      <td>0</td>\n",
       "      <td>30</td>\n",
       "      <td>1</td>\n",
       "      <td>211000.00</td>\n",
       "      <td>0.80</td>\n",
       "      <td>138</td>\n",
       "      <td>1</td>\n",
       "      <td>0</td>\n",
       "      <td>108</td>\n",
       "    </tr>\n",
       "    <tr>\n",
       "      <th>234</th>\n",
       "      <td>53.000</td>\n",
       "      <td>1</td>\n",
       "      <td>582</td>\n",
       "      <td>0</td>\n",
       "      <td>45</td>\n",
       "      <td>0</td>\n",
       "      <td>305000.00</td>\n",
       "      <td>1.10</td>\n",
       "      <td>137</td>\n",
       "      <td>1</td>\n",
       "      <td>1</td>\n",
       "      <td>209</td>\n",
       "    </tr>\n",
       "    <tr>\n",
       "      <th>64</th>\n",
       "      <td>45.000</td>\n",
       "      <td>0</td>\n",
       "      <td>582</td>\n",
       "      <td>0</td>\n",
       "      <td>80</td>\n",
       "      <td>0</td>\n",
       "      <td>263358.03</td>\n",
       "      <td>1.18</td>\n",
       "      <td>137</td>\n",
       "      <td>0</td>\n",
       "      <td>0</td>\n",
       "      <td>63</td>\n",
       "    </tr>\n",
       "    <tr>\n",
       "      <th>7</th>\n",
       "      <td>60.000</td>\n",
       "      <td>1</td>\n",
       "      <td>315</td>\n",
       "      <td>1</td>\n",
       "      <td>60</td>\n",
       "      <td>0</td>\n",
       "      <td>454000.00</td>\n",
       "      <td>1.10</td>\n",
       "      <td>131</td>\n",
       "      <td>1</td>\n",
       "      <td>1</td>\n",
       "      <td>10</td>\n",
       "    </tr>\n",
       "    <tr>\n",
       "      <th>45</th>\n",
       "      <td>50.000</td>\n",
       "      <td>0</td>\n",
       "      <td>582</td>\n",
       "      <td>1</td>\n",
       "      <td>38</td>\n",
       "      <td>0</td>\n",
       "      <td>310000.00</td>\n",
       "      <td>1.90</td>\n",
       "      <td>135</td>\n",
       "      <td>1</td>\n",
       "      <td>1</td>\n",
       "      <td>35</td>\n",
       "    </tr>\n",
       "    <tr>\n",
       "      <th>73</th>\n",
       "      <td>65.000</td>\n",
       "      <td>0</td>\n",
       "      <td>224</td>\n",
       "      <td>1</td>\n",
       "      <td>50</td>\n",
       "      <td>0</td>\n",
       "      <td>149000.00</td>\n",
       "      <td>1.30</td>\n",
       "      <td>137</td>\n",
       "      <td>1</td>\n",
       "      <td>1</td>\n",
       "      <td>72</td>\n",
       "    </tr>\n",
       "    <tr>\n",
       "      <th>291</th>\n",
       "      <td>60.000</td>\n",
       "      <td>0</td>\n",
       "      <td>320</td>\n",
       "      <td>0</td>\n",
       "      <td>35</td>\n",
       "      <td>0</td>\n",
       "      <td>133000.00</td>\n",
       "      <td>1.40</td>\n",
       "      <td>139</td>\n",
       "      <td>1</td>\n",
       "      <td>0</td>\n",
       "      <td>258</td>\n",
       "    </tr>\n",
       "    <tr>\n",
       "      <th>173</th>\n",
       "      <td>50.000</td>\n",
       "      <td>1</td>\n",
       "      <td>115</td>\n",
       "      <td>0</td>\n",
       "      <td>20</td>\n",
       "      <td>0</td>\n",
       "      <td>189000.00</td>\n",
       "      <td>0.80</td>\n",
       "      <td>139</td>\n",
       "      <td>1</td>\n",
       "      <td>0</td>\n",
       "      <td>146</td>\n",
       "    </tr>\n",
       "    <tr>\n",
       "      <th>106</th>\n",
       "      <td>55.000</td>\n",
       "      <td>0</td>\n",
       "      <td>748</td>\n",
       "      <td>0</td>\n",
       "      <td>45</td>\n",
       "      <td>0</td>\n",
       "      <td>263000.00</td>\n",
       "      <td>1.30</td>\n",
       "      <td>137</td>\n",
       "      <td>1</td>\n",
       "      <td>0</td>\n",
       "      <td>88</td>\n",
       "    </tr>\n",
       "    <tr>\n",
       "      <th>59</th>\n",
       "      <td>72.000</td>\n",
       "      <td>0</td>\n",
       "      <td>364</td>\n",
       "      <td>1</td>\n",
       "      <td>20</td>\n",
       "      <td>1</td>\n",
       "      <td>254000.00</td>\n",
       "      <td>1.30</td>\n",
       "      <td>136</td>\n",
       "      <td>1</td>\n",
       "      <td>1</td>\n",
       "      <td>59</td>\n",
       "    </tr>\n",
       "    <tr>\n",
       "      <th>230</th>\n",
       "      <td>60.000</td>\n",
       "      <td>0</td>\n",
       "      <td>166</td>\n",
       "      <td>0</td>\n",
       "      <td>30</td>\n",
       "      <td>0</td>\n",
       "      <td>62000.00</td>\n",
       "      <td>1.70</td>\n",
       "      <td>127</td>\n",
       "      <td>0</td>\n",
       "      <td>0</td>\n",
       "      <td>207</td>\n",
       "    </tr>\n",
       "    <tr>\n",
       "      <th>168</th>\n",
       "      <td>65.000</td>\n",
       "      <td>0</td>\n",
       "      <td>582</td>\n",
       "      <td>1</td>\n",
       "      <td>40</td>\n",
       "      <td>0</td>\n",
       "      <td>270000.00</td>\n",
       "      <td>1.00</td>\n",
       "      <td>138</td>\n",
       "      <td>0</td>\n",
       "      <td>0</td>\n",
       "      <td>140</td>\n",
       "    </tr>\n",
       "    <tr>\n",
       "      <th>26</th>\n",
       "      <td>95.000</td>\n",
       "      <td>1</td>\n",
       "      <td>112</td>\n",
       "      <td>0</td>\n",
       "      <td>40</td>\n",
       "      <td>1</td>\n",
       "      <td>196000.00</td>\n",
       "      <td>1.00</td>\n",
       "      <td>138</td>\n",
       "      <td>0</td>\n",
       "      <td>0</td>\n",
       "      <td>24</td>\n",
       "    </tr>\n",
       "    <tr>\n",
       "      <th>283</th>\n",
       "      <td>65.000</td>\n",
       "      <td>0</td>\n",
       "      <td>1688</td>\n",
       "      <td>0</td>\n",
       "      <td>38</td>\n",
       "      <td>0</td>\n",
       "      <td>263358.03</td>\n",
       "      <td>1.10</td>\n",
       "      <td>138</td>\n",
       "      <td>1</td>\n",
       "      <td>1</td>\n",
       "      <td>250</td>\n",
       "    </tr>\n",
       "    <tr>\n",
       "      <th>153</th>\n",
       "      <td>50.000</td>\n",
       "      <td>0</td>\n",
       "      <td>1846</td>\n",
       "      <td>1</td>\n",
       "      <td>35</td>\n",
       "      <td>0</td>\n",
       "      <td>263358.03</td>\n",
       "      <td>1.18</td>\n",
       "      <td>137</td>\n",
       "      <td>1</td>\n",
       "      <td>1</td>\n",
       "      <td>119</td>\n",
       "    </tr>\n",
       "  </tbody>\n",
       "</table>\n",
       "</div>"
      ],
      "text/plain": [
       "        age  anaemia  creatinine_phosphokinase  diabetes  ejection_fraction  \\\n",
       "206  40.000        1                       101         0                 40   \n",
       "188  60.667        1                       151         1                 40   \n",
       "12   45.000        1                       981         0                 30   \n",
       "219  55.000        0                       582         1                 35   \n",
       "237  70.000        0                       232         0                 30   \n",
       "136  65.000        1                        59         1                 60   \n",
       "228  65.000        0                        56         0                 25   \n",
       "205  50.000        1                       167         1                 45   \n",
       "52   60.000        0                      3964         1                 62   \n",
       "108  63.000        0                       936         0                 38   \n",
       "240  70.000        0                        81         1                 35   \n",
       "15   82.000        1                       379         0                 50   \n",
       "184  58.000        1                       145         0                 25   \n",
       "246  55.000        0                      2017         0                 25   \n",
       "22   68.000        1                       220         0                 35   \n",
       "74   69.000        0                       582         0                 20   \n",
       "269  40.000        0                       582         1                 35   \n",
       "90   70.000        0                        66         1                 45   \n",
       "227  55.000        1                      2794         0                 35   \n",
       "255  52.000        1                       191         1                 30   \n",
       "190  80.000        0                       582         1                 35   \n",
       "103  42.000        0                      5209         0                 30   \n",
       "124  60.000        0                       582         0                 40   \n",
       "129  53.000        1                       270         1                 35   \n",
       "220  73.000        0                       582         0                 20   \n",
       "116  60.000        1                        96         1                 60   \n",
       "194  45.000        0                       582         0                 20   \n",
       "285  55.000        1                       170         1                 40   \n",
       "294  62.000        0                        61         1                 38   \n",
       "249  53.000        0                       207         1                 40   \n",
       "92   42.000        0                       582         0                 60   \n",
       "66   42.000        1                       250         1                 15   \n",
       "8    65.000        0                       157         0                 65   \n",
       "122  60.000        0                        96         1                 38   \n",
       "217  54.000        1                       427         0                 70   \n",
       "150  72.000        0                       233         0                 45   \n",
       "176  69.000        0                      1419         0                 40   \n",
       "182  65.000        0                       395         1                 25   \n",
       "298  50.000        0                       196         0                 45   \n",
       "5    90.000        1                        47         0                 40   \n",
       "263  68.000        1                       157         1                 60   \n",
       "89   57.000        1                       115         0                 25   \n",
       "81   67.000        0                       582         0                 50   \n",
       "34   65.000        0                        94         1                 50   \n",
       "55   95.000        1                       371         0                 30   \n",
       "139  50.000        0                      1548         0                 30   \n",
       "234  53.000        1                       582         0                 45   \n",
       "64   45.000        0                       582         0                 80   \n",
       "7    60.000        1                       315         1                 60   \n",
       "45   50.000        0                       582         1                 38   \n",
       "73   65.000        0                       224         1                 50   \n",
       "291  60.000        0                       320         0                 35   \n",
       "173  50.000        1                       115         0                 20   \n",
       "106  55.000        0                       748         0                 45   \n",
       "59   72.000        0                       364         1                 20   \n",
       "230  60.000        0                       166         0                 30   \n",
       "168  65.000        0                       582         1                 40   \n",
       "26   95.000        1                       112         0                 40   \n",
       "283  65.000        0                      1688         0                 38   \n",
       "153  50.000        0                      1846         1                 35   \n",
       "\n",
       "     high_blood_pressure  platelets  serum_creatinine  serum_sodium  sex  \\\n",
       "206                    0  226000.00              0.80           141    0   \n",
       "188                    1  201000.00              1.00           136    0   \n",
       "12                     0  136000.00              1.10           137    1   \n",
       "219                    1  371000.00              0.70           140    0   \n",
       "237                    0  173000.00              1.20           132    1   \n",
       "136                    0  172000.00              0.90           137    0   \n",
       "228                    0  237000.00              5.00           130    0   \n",
       "205                    0  362000.00              1.00           136    0   \n",
       "52                     0  263358.03              6.80           146    0   \n",
       "108                    0  304000.00              1.10           133    1   \n",
       "240                    1  533000.00              1.30           139    0   \n",
       "15                     0   47000.00              1.30           136    1   \n",
       "184                    0  219000.00              1.20           137    1   \n",
       "246                    0  314000.00              1.10           138    1   \n",
       "22                     1  289000.00              0.90           140    1   \n",
       "74                     0  266000.00              1.20           134    1   \n",
       "269                    0  222000.00              1.00           132    1   \n",
       "90                     0  249000.00              0.80           136    1   \n",
       "227                    1  141000.00              1.00           140    1   \n",
       "255                    1  334000.00              1.00           142    1   \n",
       "190                    0  350000.00              2.10           134    1   \n",
       "103                    0  226000.00              1.00           140    1   \n",
       "124                    0  217000.00              3.70           134    1   \n",
       "129                    0  227000.00              3.40           145    1   \n",
       "220                    0  263358.03              1.83           134    1   \n",
       "116                    1  271000.00              0.70           136    0   \n",
       "194                    1  126000.00              1.60           135    1   \n",
       "285                    0  336000.00              1.20           135    1   \n",
       "294                    1  155000.00              1.10           143    1   \n",
       "249                    0  223000.00              1.20           130    0   \n",
       "92                     0  263358.03              1.18           137    0   \n",
       "66                     0  213000.00              1.30           136    0   \n",
       "8                      0  263358.03              1.50           138    0   \n",
       "122                    0  228000.00              0.75           140    0   \n",
       "217                    1  151000.00              9.00           137    0   \n",
       "150                    1  235000.00              2.50           135    0   \n",
       "176                    0  105000.00              1.00           135    1   \n",
       "182                    0  265000.00              1.20           136    1   \n",
       "298                    0  395000.00              1.60           136    1   \n",
       "5                      1  204000.00              2.10           132    1   \n",
       "263                    0  208000.00              1.00           140    0   \n",
       "89                     1  181000.00              1.10           144    1   \n",
       "81                     0  263358.03              1.18           137    1   \n",
       "34                     1  188000.00              1.00           140    1   \n",
       "55                     0  461000.00              2.00           132    1   \n",
       "139                    1  211000.00              0.80           138    1   \n",
       "234                    0  305000.00              1.10           137    1   \n",
       "64                     0  263358.03              1.18           137    0   \n",
       "7                      0  454000.00              1.10           131    1   \n",
       "45                     0  310000.00              1.90           135    1   \n",
       "73                     0  149000.00              1.30           137    1   \n",
       "291                    0  133000.00              1.40           139    1   \n",
       "173                    0  189000.00              0.80           139    1   \n",
       "106                    0  263000.00              1.30           137    1   \n",
       "59                     1  254000.00              1.30           136    1   \n",
       "230                    0   62000.00              1.70           127    0   \n",
       "168                    0  270000.00              1.00           138    0   \n",
       "26                     1  196000.00              1.00           138    0   \n",
       "283                    0  263358.03              1.10           138    1   \n",
       "153                    0  263358.03              1.18           137    1   \n",
       "\n",
       "     smoking  time  \n",
       "206        0   187  \n",
       "188        0   172  \n",
       "12         0    11  \n",
       "219        0   197  \n",
       "237        0   210  \n",
       "136        0   107  \n",
       "228        0   207  \n",
       "205        0   187  \n",
       "52         0    43  \n",
       "108        1    88  \n",
       "240        0   212  \n",
       "15         0    13  \n",
       "184        1   170  \n",
       "246        0   214  \n",
       "22         1    20  \n",
       "74         1    73  \n",
       "269        0   244  \n",
       "90         1    80  \n",
       "227        0   206  \n",
       "255        1   216  \n",
       "190        0   174  \n",
       "103        1    87  \n",
       "124        0    96  \n",
       "129        0   105  \n",
       "220        0   198  \n",
       "116        0    94  \n",
       "194        0   180  \n",
       "285        0   250  \n",
       "294        1   270  \n",
       "249        0   214  \n",
       "92         0    82  \n",
       "66         0    65  \n",
       "8          0    10  \n",
       "122        0    95  \n",
       "217        0   196  \n",
       "150        0   115  \n",
       "176        1   147  \n",
       "182        1   154  \n",
       "298        1   285  \n",
       "5          1     8  \n",
       "263        0   237  \n",
       "89         0    79  \n",
       "81         1    76  \n",
       "34         0    29  \n",
       "55         0    50  \n",
       "139        0   108  \n",
       "234        1   209  \n",
       "64         0    63  \n",
       "7          1    10  \n",
       "45         1    35  \n",
       "73         1    72  \n",
       "291        0   258  \n",
       "173        0   146  \n",
       "106        0    88  \n",
       "59         1    59  \n",
       "230        0   207  \n",
       "168        0   140  \n",
       "26         0    24  \n",
       "283        1   250  \n",
       "153        1   119  "
      ]
     },
     "execution_count": 103,
     "metadata": {},
     "output_type": "execute_result"
    }
   ],
   "source": [
    "X_test"
   ]
  },
  {
   "cell_type": "code",
   "execution_count": 104,
   "id": "49b04da7",
   "metadata": {},
   "outputs": [],
   "source": [
    "# Menggabungkan semuanya\n",
    "y_pred_series = pd.Series(y_test).rename('actual', inplace=True)\n",
    "\n",
    "hasil_akhir = pd.concat([y_pred_series], axis=1).dropna()\n",
    "\n",
    "hasil_akhir['predict'] = randfor_pred\n",
    "\n",
    "#hasil_akhir.rename(columns={0:'location'}, inplace = True)\n",
    "hasil_akhir = hasil_akhir[['actual','predict']]"
   ]
  },
  {
   "cell_type": "code",
   "execution_count": 105,
   "id": "77351270",
   "metadata": {},
   "outputs": [
    {
     "data": {
      "text/html": [
       "<div>\n",
       "<style scoped>\n",
       "    .dataframe tbody tr th:only-of-type {\n",
       "        vertical-align: middle;\n",
       "    }\n",
       "\n",
       "    .dataframe tbody tr th {\n",
       "        vertical-align: top;\n",
       "    }\n",
       "\n",
       "    .dataframe thead th {\n",
       "        text-align: right;\n",
       "    }\n",
       "</style>\n",
       "<table border=\"1\" class=\"dataframe\">\n",
       "  <thead>\n",
       "    <tr style=\"text-align: right;\">\n",
       "      <th></th>\n",
       "      <th>actual</th>\n",
       "      <th>predict</th>\n",
       "    </tr>\n",
       "  </thead>\n",
       "  <tbody>\n",
       "    <tr>\n",
       "      <th>206</th>\n",
       "      <td>0</td>\n",
       "      <td>0</td>\n",
       "    </tr>\n",
       "    <tr>\n",
       "      <th>188</th>\n",
       "      <td>0</td>\n",
       "      <td>0</td>\n",
       "    </tr>\n",
       "    <tr>\n",
       "      <th>12</th>\n",
       "      <td>1</td>\n",
       "      <td>1</td>\n",
       "    </tr>\n",
       "    <tr>\n",
       "      <th>219</th>\n",
       "      <td>0</td>\n",
       "      <td>0</td>\n",
       "    </tr>\n",
       "    <tr>\n",
       "      <th>237</th>\n",
       "      <td>0</td>\n",
       "      <td>0</td>\n",
       "    </tr>\n",
       "    <tr>\n",
       "      <th>136</th>\n",
       "      <td>0</td>\n",
       "      <td>0</td>\n",
       "    </tr>\n",
       "    <tr>\n",
       "      <th>228</th>\n",
       "      <td>0</td>\n",
       "      <td>0</td>\n",
       "    </tr>\n",
       "    <tr>\n",
       "      <th>205</th>\n",
       "      <td>0</td>\n",
       "      <td>0</td>\n",
       "    </tr>\n",
       "    <tr>\n",
       "      <th>52</th>\n",
       "      <td>1</td>\n",
       "      <td>1</td>\n",
       "    </tr>\n",
       "    <tr>\n",
       "      <th>108</th>\n",
       "      <td>0</td>\n",
       "      <td>0</td>\n",
       "    </tr>\n",
       "  </tbody>\n",
       "</table>\n",
       "</div>"
      ],
      "text/plain": [
       "     actual  predict\n",
       "206       0        0\n",
       "188       0        0\n",
       "12        1        1\n",
       "219       0        0\n",
       "237       0        0\n",
       "136       0        0\n",
       "228       0        0\n",
       "205       0        0\n",
       "52        1        1\n",
       "108       0        0"
      ]
     },
     "execution_count": 105,
     "metadata": {},
     "output_type": "execute_result"
    }
   ],
   "source": [
    "hasil_akhir.head(10)"
   ]
  },
  {
   "cell_type": "markdown",
   "id": "f0f77adb",
   "metadata": {},
   "source": [
    "## k.  Kesimpulan"
   ]
  },
  {
   "cell_type": "markdown",
   "id": "65da722f",
   "metadata": {},
   "source": [
    "- Dari model yang telah dibuat yakni random forest mengahsilkan akurasi sebesar 85% dan nilai MSE sebesar 0.15 yang berarti model memungkinkan untuk memprediksi 'Death Event' sebesar 85%.\n",
    "- variabel yang berpengaruh positif terhadap death event diantaranya: serum_creatinine, age, high_blood_pressure, anaemia, creatinine_phosphokinase dan Variabel yang berkorelasi negatif yakni: time, ejection_fraction, serum_sodium, platelets, smoking, sex,diabetes\n",
    "- dari hasil akhir proporsi datanya cukup balance namun data yang dimiliki sangatlah sedikit dan kurang bervariasi maka dari itu ditakutkan akan adanya indikasi bahwa model overfitt mungkin kedepannya dapan dilakukan Regularisasi dan pengoptimalan hyperparameter. \n",
    "\n"
   ]
  }
 ],
 "metadata": {
  "kernelspec": {
   "display_name": "Python 3 (ipykernel)",
   "language": "python",
   "name": "python3"
  },
  "language_info": {
   "codemirror_mode": {
    "name": "ipython",
    "version": 3
   },
   "file_extension": ".py",
   "mimetype": "text/x-python",
   "name": "python",
   "nbconvert_exporter": "python",
   "pygments_lexer": "ipython3",
   "version": "3.9.12"
  }
 },
 "nbformat": 4,
 "nbformat_minor": 5
}
