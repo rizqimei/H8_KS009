{
 "cells": [
  {
   "cell_type": "code",
   "execution_count": 2,
   "id": "aebe61d6",
   "metadata": {},
   "outputs": [
    {
     "name": "stdout",
     "output_type": "stream",
     "text": [
      "<class 'float'>\n"
     ]
    }
   ],
   "source": [
    "print(type(10.5))"
   ]
  },
  {
   "cell_type": "code",
   "execution_count": 5,
   "id": "a31d4922",
   "metadata": {},
   "outputs": [],
   "source": [
    "a=['foo','baar','werwerwer','alsjd']\n",
    "b=['foo','miawug','anjay','welau']"
   ]
  },
  {
   "cell_type": "code",
   "execution_count": 6,
   "id": "30196952",
   "metadata": {},
   "outputs": [
    {
     "data": {
      "text/plain": [
       "False"
      ]
     },
     "execution_count": 6,
     "metadata": {},
     "output_type": "execute_result"
    }
   ],
   "source": [
    "a == b"
   ]
  },
  {
   "cell_type": "code",
   "execution_count": 7,
   "id": "c8ac8e4f",
   "metadata": {},
   "outputs": [
    {
     "name": "stdout",
     "output_type": "stream",
     "text": [
      "werwerwer\n"
     ]
    }
   ],
   "source": [
    "print(a[2])"
   ]
  },
  {
   "cell_type": "code",
   "execution_count": 9,
   "id": "1ebc04eb",
   "metadata": {},
   "outputs": [
    {
     "name": "stdout",
     "output_type": "stream",
     "text": [
      "['werwerwer']\n"
     ]
    }
   ],
   "source": [
    "print(a[2:3])"
   ]
  },
  {
   "cell_type": "code",
   "execution_count": 10,
   "id": "e9ad6609",
   "metadata": {},
   "outputs": [
    {
     "data": {
      "text/plain": [
       "['werwerwer']"
      ]
     },
     "execution_count": 10,
     "metadata": {},
     "output_type": "execute_result"
    }
   ],
   "source": [
    "a[2:3]"
   ]
  },
  {
   "cell_type": "code",
   "execution_count": 11,
   "id": "12b385ef",
   "metadata": {},
   "outputs": [
    {
     "data": {
      "text/plain": [
       "['baar', 'werwerwer']"
      ]
     },
     "execution_count": 11,
     "metadata": {},
     "output_type": "execute_result"
    }
   ],
   "source": [
    "a[1:3]"
   ]
  },
  {
   "cell_type": "code",
   "execution_count": 12,
   "id": "a114435c",
   "metadata": {},
   "outputs": [],
   "source": [
    "a=['foo','baar','werwerwer','alsjd']\n",
    "b=['foo','miawug','anjay','welau']"
   ]
  },
  {
   "cell_type": "code",
   "execution_count": 13,
   "id": "c3518912",
   "metadata": {},
   "outputs": [
    {
     "data": {
      "text/plain": [
       "['foo', 'baar', 'werwerwer']"
      ]
     },
     "execution_count": 13,
     "metadata": {},
     "output_type": "execute_result"
    }
   ],
   "source": [
    "a[0:3]"
   ]
  },
  {
   "cell_type": "code",
   "execution_count": 14,
   "id": "183e3dfa",
   "metadata": {},
   "outputs": [
    {
     "name": "stdout",
     "output_type": "stream",
     "text": [
      "['foo', 'baar', 'werwerwer', 'alsjd', 'foo', 'baar', 'werwerwer', 'alsjd']\n"
     ]
    }
   ],
   "source": [
    "print(a*2)"
   ]
  },
  {
   "cell_type": "code",
   "execution_count": 1,
   "id": "04473403",
   "metadata": {},
   "outputs": [],
   "source": [
    "person = {}\n",
    "type(person)\n",
    "\n",
    "person['fname'] = 'rizqi'\n",
    "person['lname'] = 'mei'\n",
    "person['age'] = '20'\n",
    "person['spouse'] = 'fira'\n",
    "person['children'] = ['Ralph','Jacob','Herry']"
   ]
  },
  {
   "cell_type": "code",
   "execution_count": 2,
   "id": "1f4b0523",
   "metadata": {},
   "outputs": [
    {
     "data": {
      "text/plain": [
       "{'fname': 'rizqi',\n",
       " 'lname': 'mei',\n",
       " 'age': '20',\n",
       " 'spouse': 'fira',\n",
       " 'children': ['Ralph', 'Jacob', 'Herry']}"
      ]
     },
     "execution_count": 2,
     "metadata": {},
     "output_type": "execute_result"
    }
   ],
   "source": [
    "person"
   ]
  },
  {
   "cell_type": "code",
   "execution_count": 6,
   "id": "ecb23ad8",
   "metadata": {},
   "outputs": [
    {
     "name": "stdout",
     "output_type": "stream",
     "text": [
      "rizqi\n",
      "mei\n",
      "Jacob\n"
     ]
    }
   ],
   "source": [
    "print (person['fname'])\n",
    "print (person['lname'])\n",
    "print (person['children'][1])"
   ]
  },
  {
   "cell_type": "code",
   "execution_count": null,
   "id": "9df30776",
   "metadata": {},
   "outputs": [],
   "source": []
  }
 ],
 "metadata": {
  "kernelspec": {
   "display_name": "Python 3 (ipykernel)",
   "language": "python",
   "name": "python3"
  },
  "language_info": {
   "codemirror_mode": {
    "name": "ipython",
    "version": 3
   },
   "file_extension": ".py",
   "mimetype": "text/x-python",
   "name": "python",
   "nbconvert_exporter": "python",
   "pygments_lexer": "ipython3",
   "version": "3.9.12"
  }
 },
 "nbformat": 4,
 "nbformat_minor": 5
}
