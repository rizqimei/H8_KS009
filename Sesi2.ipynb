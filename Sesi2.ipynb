{
 "cells": [
  {
   "cell_type": "code",
   "execution_count": 1,
   "id": "eb341b94",
   "metadata": {},
   "outputs": [
    {
     "name": "stdout",
     "output_type": "stream",
     "text": [
      "(harganya mahal)\n",
      "x nilainya besar\n"
     ]
    }
   ],
   "source": [
    "x = 150\n",
    "\n",
    "if x > 100 :\n",
    "    print('(harganya mahal)')\n",
    "    print('x nilainya besar')\n",
    "else :\n",
    "    print('(harganya murah)')\n",
    "    print('x nilanya kecil')"
   ]
  },
  {
   "cell_type": "code",
   "execution_count": 13,
   "id": "d2bd77db",
   "metadata": {},
   "outputs": [
    {
     "name": "stdout",
     "output_type": "stream",
     "text": [
      "beli keduanya\n"
     ]
    }
   ],
   "source": [
    "harga_buku = 15000\n",
    "harga_majalah = 13000\n",
    "uang = 17000\n",
    "\n",
    "if uang > harga_buku and harga_majalah :\n",
    "    print('beli keduanya')\n",
    "elif uang > harga_majalah :\n",
    "    print('beli majalah')\n",
    "elif uang > harga_buku :\n",
    "    print('beli buku')\n",
    "else :\n",
    "    print('uang tidak cukup')"
   ]
  },
  {
   "cell_type": "code",
   "execution_count": 14,
   "id": "35c68ced",
   "metadata": {},
   "outputs": [
    {
     "name": "stdout",
     "output_type": "stream",
     "text": [
      "lets go to the mak bi\n"
     ]
    }
   ],
   "source": [
    "raining = True\n",
    "print('lets go to the','party' if not raining else 'mak bi')"
   ]
  },
  {
   "cell_type": "code",
   "execution_count": 15,
   "id": "7a82a4d7",
   "metadata": {},
   "outputs": [
    {
     "name": "stdout",
     "output_type": "stream",
     "text": [
      "lets go to the party\n"
     ]
    }
   ],
   "source": [
    "raining = True\n",
    "print('lets go to the','party' if raining else 'mak bi')"
   ]
  },
  {
   "cell_type": "code",
   "execution_count": 20,
   "id": "9d7ef83f",
   "metadata": {},
   "outputs": [
    {
     "name": "stdout",
     "output_type": "stream",
     "text": [
      "sad\n"
     ]
    }
   ],
   "source": [
    "if True :\n",
    "    pass\n",
    "print('sad')"
   ]
  },
  {
   "cell_type": "code",
   "execution_count": null,
   "id": "95bb0ab1",
   "metadata": {},
   "outputs": [],
   "source": [
    "x = 5\n",
    "while x > 3 :\n",
    "    x -= 2\n",
    "    if x == 3 :\n",
    "        continue\n",
    "    print(x)\n",
    "print('loop ended')"
   ]
  },
  {
   "cell_type": "code",
   "execution_count": null,
   "id": "f71b9306",
   "metadata": {},
   "outputs": [],
   "source": []
  },
  {
   "cell_type": "code",
   "execution_count": null,
   "id": "31565883",
   "metadata": {},
   "outputs": [],
   "source": []
  }
 ],
 "metadata": {
  "kernelspec": {
   "display_name": "Python 3 (ipykernel)",
   "language": "python",
   "name": "python3"
  },
  "language_info": {
   "codemirror_mode": {
    "name": "ipython",
    "version": 3
   },
   "file_extension": ".py",
   "mimetype": "text/x-python",
   "name": "python",
   "nbconvert_exporter": "python",
   "pygments_lexer": "ipython3",
   "version": "3.9.12"
  }
 },
 "nbformat": 4,
 "nbformat_minor": 5
}
