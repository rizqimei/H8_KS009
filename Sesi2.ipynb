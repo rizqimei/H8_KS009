{
 "cells": [
  {
   "cell_type": "code",
   "execution_count": 1,
   "id": "eb341b94",
   "metadata": {},
   "outputs": [
    {
     "name": "stdout",
     "output_type": "stream",
     "text": [
      "(harganya mahal)\n",
      "x nilainya besar\n"
     ]
    }
   ],
   "source": [
    "x = 150\n",
    "\n",
    "if x > 100 :\n",
    "    print('(harganya mahal)')\n",
    "    print('x nilainya besar')\n",
    "else :\n",
    "    print('(harganya murah)')\n",
    "    print('x nilanya kecil')"
   ]
  },
  {
   "cell_type": "code",
   "execution_count": 13,
   "id": "d2bd77db",
   "metadata": {},
   "outputs": [
    {
     "name": "stdout",
     "output_type": "stream",
     "text": [
      "beli keduanya\n"
     ]
    }
   ],
   "source": [
    "harga_buku = 15000\n",
    "harga_majalah = 13000\n",
    "uang = 17000\n",
    "\n",
    "if uang > harga_buku and harga_majalah :\n",
    "    print('beli keduanya')\n",
    "elif uang > harga_majalah :\n",
    "    print('beli majalah')\n",
    "elif uang > harga_buku :\n",
    "    print('beli buku')\n",
    "else :\n",
    "    print('uang tidak cukup')"
   ]
  },
  {
   "cell_type": "code",
   "execution_count": 14,
   "id": "35c68ced",
   "metadata": {},
   "outputs": [
    {
     "name": "stdout",
     "output_type": "stream",
     "text": [
      "lets go to the mak bi\n"
     ]
    }
   ],
   "source": [
    "raining = True\n",
    "print('lets go to the','party' if not raining else 'mak bi')"
   ]
  },
  {
   "cell_type": "code",
   "execution_count": 15,
   "id": "7a82a4d7",
   "metadata": {},
   "outputs": [
    {
     "name": "stdout",
     "output_type": "stream",
     "text": [
      "lets go to the party\n"
     ]
    }
   ],
   "source": [
    "raining = True\n",
    "print('lets go to the','party' if raining else 'mak bi')"
   ]
  },
  {
   "cell_type": "code",
   "execution_count": 20,
   "id": "9d7ef83f",
   "metadata": {},
   "outputs": [
    {
     "name": "stdout",
     "output_type": "stream",
     "text": [
      "sad\n"
     ]
    }
   ],
   "source": [
    "if True :\n",
    "    pass\n",
    "print('sad')"
   ]
  },
  {
   "cell_type": "code",
   "execution_count": null,
   "id": "95bb0ab1",
   "metadata": {},
   "outputs": [],
   "source": [
    "x = 5\n",
    "while x > 3 :\n",
    "    x -= 2\n",
    "    if x == 3 :\n",
    "        continue\n",
    "    print(x)\n",
    "print('loop ended')"
   ]
  },
  {
   "cell_type": "code",
   "execution_count": 1,
   "id": "f71b9306",
   "metadata": {},
   "outputs": [
    {
     "name": "stdout",
     "output_type": "stream",
     "text": [
      "0\n",
      "Loop ended.\n"
     ]
    }
   ],
   "source": [
    "n = 5\n",
    "while n > 0:          \n",
    "    n -= 1            \n",
    "    if n == 2:        \n",
    "        continue     \n",
    "    \n",
    "print(n)          \n",
    "    \n",
    "print('Loop ended.')"
   ]
  },
  {
   "cell_type": "code",
   "execution_count": 2,
   "id": "31565883",
   "metadata": {},
   "outputs": [
    {
     "name": "stdout",
     "output_type": "stream",
     "text": [
      "4\n",
      "3\n",
      "Loop ended.\n"
     ]
    }
   ],
   "source": [
    "n = 5\n",
    "while n > 0:          \n",
    "    n -= 1            \n",
    "    if n == 2:            \n",
    "        break\n",
    "    print(n)          \n",
    "print('Loop ended.')"
   ]
  },
  {
   "cell_type": "code",
   "execution_count": 3,
   "id": "e1b75d05",
   "metadata": {},
   "outputs": [
    {
     "name": "stdout",
     "output_type": "stream",
     "text": [
      "foo\n"
     ]
    }
   ],
   "source": [
    "for i in ['foo', 'bar', 'baz', 'qux']:\n",
    "    if 'b' in i: # b di foo? b bar? b baz? b  qux?\n",
    "        break\n",
    "    print(i)"
   ]
  },
  {
   "cell_type": "code",
   "execution_count": 6,
   "id": "32f6ea12",
   "metadata": {},
   "outputs": [
    {
     "name": "stdout",
     "output_type": "stream",
     "text": [
      "foo\n",
      "qux\n"
     ]
    }
   ],
   "source": [
    "for i in ['foo', 'bar', 'baz', 'qux']:\n",
    "    if 'b' in i: # b di foo? b bar? b baz? b  qux?\n",
    "        continue\n",
    "    print(i)"
   ]
  },
  {
   "cell_type": "code",
   "execution_count": 7,
   "id": "94b167d8",
   "metadata": {},
   "outputs": [
    {
     "name": "stdout",
     "output_type": "stream",
     "text": [
      "20\n",
      "18\n",
      "16\n",
      "14\n",
      "12\n",
      "10\n",
      "8\n",
      "6\n",
      "4\n",
      "2\n"
     ]
    }
   ],
   "source": [
    "for i in range(20,0,-2):\n",
    "    print(i)"
   ]
  },
  {
   "cell_type": "code",
   "execution_count": 8,
   "id": "9f5ae7be",
   "metadata": {},
   "outputs": [
    {
     "name": "stdout",
     "output_type": "stream",
     "text": [
      "20\n",
      "16\n",
      "12\n",
      "8\n",
      "4\n"
     ]
    }
   ],
   "source": [
    "for i in range(20,0,-4):\n",
    "    print(i)"
   ]
  },
  {
   "cell_type": "code",
   "execution_count": 9,
   "id": "6c5528e5",
   "metadata": {},
   "outputs": [
    {
     "name": "stdout",
     "output_type": "stream",
     "text": [
      "foo\n",
      "wer\n",
      "aww\n"
     ]
    }
   ],
   "source": [
    "a = ['foo','wer','aww']\n",
    "\n",
    "for i in a:\n",
    "    print(i)"
   ]
  },
  {
   "cell_type": "code",
   "execution_count": 22,
   "id": "aef9b462",
   "metadata": {},
   "outputs": [
    {
     "name": "stdout",
     "output_type": "stream",
     "text": [
      "foo\n",
      "wer\n",
      "aww\n"
     ]
    }
   ],
   "source": [
    "x = {'foo': 1,'wer': 2,'aww': 3}\n",
    "\n",
    "for k in x.keys():\n",
    "    print(k)"
   ]
  },
  {
   "cell_type": "code",
   "execution_count": 23,
   "id": "02a75c53",
   "metadata": {},
   "outputs": [
    {
     "name": "stdout",
     "output_type": "stream",
     "text": [
      "1\n",
      "2\n",
      "3\n"
     ]
    }
   ],
   "source": [
    "x = {'foo': 1,'wer': 2,'aww': 3}\n",
    "\n",
    "for k in x.values():\n",
    "    print(k)"
   ]
  },
  {
   "cell_type": "code",
   "execution_count": 26,
   "id": "1dc6c0b0",
   "metadata": {},
   "outputs": [
    {
     "name": "stdout",
     "output_type": "stream",
     "text": [
      "('foo', 1)\n",
      "('wer', 2)\n",
      "('aww', 3)\n"
     ]
    }
   ],
   "source": [
    "x = {'foo': 1,'wer': 2,'aww': 3}\n",
    "\n",
    "for k in x.items():\n",
    "    print(k)"
   ]
  },
  {
   "cell_type": "code",
   "execution_count": 29,
   "id": "74e249ef",
   "metadata": {},
   "outputs": [
    {
     "name": "stdout",
     "output_type": "stream",
     "text": [
      "1\n",
      "2\n",
      "3\n",
      "4\n",
      "5\n"
     ]
    }
   ],
   "source": [
    "for n in(1,2,3,4,5):\n",
    "    print(n)"
   ]
  },
  {
   "cell_type": "code",
   "execution_count": 32,
   "id": "7cb1f6ae",
   "metadata": {},
   "outputs": [
    {
     "name": "stdout",
     "output_type": "stream",
     "text": [
      "0\n",
      "1\n",
      "2\n",
      "3\n",
      "4\n"
     ]
    }
   ],
   "source": [
    "x = range(5)\n",
    "\n",
    "for i in x:\n",
    "    print(i)"
   ]
  },
  {
   "cell_type": "code",
   "execution_count": null,
   "id": "34f5574d",
   "metadata": {},
   "outputs": [],
   "source": [
    "i = 0\n",
    "while i < 4:\n",
    "    print('i ', i)\n",
    "    \n",
    "    j = 1\n",
    "    while j < 5:\n",
    "        print('j ', j)\n",
    "        if j == 2:\n",
    "            print('will break loop using j counter')\n",
    "            break\n",
    "    j += 1\n",
    "    \n",
    "    if i == 1:\n",
    "        print('will break loop using i counter')\n",
    "        break\n",
    "    i+=1\n"
   ]
  },
  {
   "cell_type": "code",
   "execution_count": null,
   "id": "9730864a",
   "metadata": {},
   "outputs": [],
   "source": [
    "temp = input(\"masukkan temperatur yg ingin dikonversi, cth : 45F, 120C:\")\n",
    "print(temp)"
   ]
  },
  {
   "cell_type": "code",
   "execution_count": null,
   "id": "b2dee05a",
   "metadata": {},
   "outputs": [],
   "source": [
    "temp = input(\"masukkan temperatur yg ingin dikonversi, cth : 45F, 120C:\")\n",
    "print(temp)\n",
    "print(type(temp))\n",
    "print(type(temp[:-1]))\n",
    "\n",
    "degree = int(temp[:-1])\n",
    "print(degree)\n",
    "print(type(degree))\n",
    "\n",
    "i_convertion = temp[-1]\n",
    "print(i_convertion)\n",
    "\n",
    "result = 0\n",
    "if i_convertion == \"c\":\n",
    "    result = int(round((9*degrees)/5+32))\n",
    "elif i_convertion == \"f\":\n",
    "    result = int(round((degree-32)*5/9))\n",
    "else :\n",
    "    print(\"masukkan input yg bener\")\n",
    "\n",
    "print(\"temperaturnya adalah\", result,\"derajat\")"
   ]
  },
  {
   "cell_type": "code",
   "execution_count": null,
   "id": "ff9e8d5f",
   "metadata": {},
   "outputs": [],
   "source": [
    "while True:\n",
    "    msg = input(\"ketik karakter\")lower()\n",
    "    print(msg)\n",
    "    if msg == \"stop\":\n",
    "        break"
   ]
  },
  {
   "cell_type": "code",
   "execution_count": null,
   "id": "18aea6db",
   "metadata": {},
   "outputs": [],
   "source": []
  }
 ],
 "metadata": {
  "kernelspec": {
   "display_name": "Python 3 (ipykernel)",
   "language": "python",
   "name": "python3"
  },
  "language_info": {
   "codemirror_mode": {
    "name": "ipython",
    "version": 3
   },
   "file_extension": ".py",
   "mimetype": "text/x-python",
   "name": "python",
   "nbconvert_exporter": "python",
   "pygments_lexer": "ipython3",
   "version": "3.9.12"
  }
 },
 "nbformat": 4,
 "nbformat_minor": 5
}
